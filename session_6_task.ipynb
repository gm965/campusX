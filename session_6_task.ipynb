{
 "cells": [
  {
   "cell_type": "markdown",
   "metadata": {
    "id": "h6dDSW5XGZFi"
   },
   "source": [
    "### **`Problem-1:`** Write a Python function that takes a list and returns a new list with unique elements of the first list.\n",
    "\n",
    "**Exercise 1:**\n",
    "\n",
    "Input:\n",
    "\n",
    "```bash\n",
    "[1,2,3,3,3,3,4,5]\n",
    "```\n",
    "\n",
    "Output:\n",
    "\n",
    "```bash\n",
    "[1, 2, 3, 4, 5]\n",
    "```"
   ]
  },
  {
   "cell_type": "code",
   "execution_count": 10,
   "metadata": {
    "id": "R5pq1C9LGe1y"
   },
   "outputs": [
    {
     "name": "stdout",
     "output_type": "stream",
     "text": [
      "The output is:  [1, 2, 3, 4, 5]\n"
     ]
    }
   ],
   "source": [
    "# Write code here (Done)\n",
    "\n",
    "def unique_list(input_list):\n",
    "    if type(list1) is list:\n",
    "        out_list = list(set(list1))\n",
    "    return out_list\n",
    "    \n",
    "list1 = [1,2,3,3,3,4,5]\n",
    "\n",
    "o_list = unique_list(list1)\n",
    "    \n",
    "print(\"The output is: \", o_list)    "
   ]
  },
  {
   "cell_type": "markdown",
   "metadata": {
    "id": "UxQ_VoyJGwHj"
   },
   "source": [
    "### **`Problem-2:`** Write a Python function that accepts a hyphen-separated sequence of words as parameter and returns the words in a hyphen-separated sequence after sorting them alphabetically.\n",
    "\n",
    "**Example 1:**\n",
    "\n",
    "Input:\n",
    "```bash\n",
    "green-red-yellow-black-white\n",
    "```\n",
    "\n",
    "Output:\n",
    "```bash\n",
    "black-green-red-white-yellow\n",
    "```"
   ]
  },
  {
   "cell_type": "code",
   "execution_count": 17,
   "metadata": {
    "id": "AAts2m5zGwiQ"
   },
   "outputs": [
    {
     "data": {
      "text/plain": [
       "'black-green-red-white-yellow'"
      ]
     },
     "execution_count": 17,
     "metadata": {},
     "output_type": "execute_result"
    }
   ],
   "source": [
    "# Write code here (Done)\n",
    "\n",
    "def sorting_sentence(sentence):\n",
    "    list1 = sentence.split(\"-\")\n",
    "    list1.sort()\n",
    "    return \"-\".join(ostr)\n",
    "\n",
    "str1 = 'green-red-yellow-black-white'\n",
    "\n",
    "sorting_sentence(str1)\n",
    "\n"
   ]
  },
  {
   "cell_type": "markdown",
   "metadata": {
    "id": "IRGH62S7Gx_n"
   },
   "source": [
    "### **`Problem 3:`** Write a Python function that accepts a string and calculate the number of upper case letters and lower case letters.\n",
    "\n",
    "```\n",
    "Sample String : 'CampusX is an Online Mentorship Program fOr EnginEering studentS.'\n",
    "Expected Output :\n",
    "No. of Upper case characters :  9\n",
    "No. of Lower case Characters :  47\n",
    "```"
   ]
  },
  {
   "cell_type": "code",
   "execution_count": 26,
   "metadata": {
    "id": "OaUrD8vVG5o8"
   },
   "outputs": [
    {
     "name": "stdout",
     "output_type": "stream",
     "text": [
      "Please enter the string: CampusX is an Online Mentorship Program fOr EnginEering studentS\n",
      "No. of Lower case characters : 47\n",
      "No. of Upper case characters : 9\n"
     ]
    }
   ],
   "source": [
    "# Write code here (Done)\n",
    "def lower_upper_count(stri):\n",
    "    lo = 0\n",
    "    up = 0\n",
    "    for i in stri:\n",
    "        if i.isspace():\n",
    "            continue\n",
    "        elif i.islower():\n",
    "            lo += 1\n",
    "        elif i.isupper():\n",
    "            up += 1 \n",
    "    return lo,up\n",
    "\n",
    "str1 = input(\"Please enter the string: \")\n",
    "\n",
    "lo_cnt, up_cnt = lower_upper_count(str1)\n",
    "\n",
    "print(f\"No. of Lower case characters : {lo_cnt}\")\n",
    "print(f\"No. of Upper case characters : {up_cnt}\")\n",
    "\n"
   ]
  },
  {
   "cell_type": "markdown",
   "metadata": {
    "id": "V1BFFdYQG7Sn"
   },
   "source": [
    "### **`Problem 4:`** Write a Python program to print the even numbers from a given list.\n",
    "```\n",
    "Sample List : [1, 2, 3, 4, 5, 6, 7, 8, 9]\n",
    "Expected Result : [2, 4, 6, 8]\n",
    "```"
   ]
  },
  {
   "cell_type": "code",
   "execution_count": 27,
   "metadata": {
    "id": "VvAReLoDG_Z3"
   },
   "outputs": [
    {
     "data": {
      "text/plain": [
       "[2, 4, 6, 8]"
      ]
     },
     "execution_count": 27,
     "metadata": {},
     "output_type": "execute_result"
    }
   ],
   "source": [
    "# Write code here (Done)\n",
    "\n",
    "def even_no_cnt(list1):\n",
    "    even_list = [i for i in list1 if i%2 == 0]\n",
    "    return even_list\n",
    "\n",
    "even_no_cnt([1, 2, 3, 4, 5, 6, 7, 8, 9])\n"
   ]
  },
  {
   "cell_type": "markdown",
   "metadata": {
    "id": "qrK39Gn-HHb4"
   },
   "source": [
    "### **`Problem 5:`** Write a Python function to check whether a number is perfect or not.\n",
    "\n",
    "A Perfect number is a number that is half the sum of all of its positive divisors (including itself).\n",
    "\n",
    "Example : \n",
    "\n",
    "```\n",
    "The first perfect number is 6, because 1, 2, and 3 are its proper positive divisors, and 1 + 2 + 3 = 6. \n",
    "Equivalently, the number 6 is equal to half the sum of all its positive divisors: ( 1 + 2 + 3 + 6 ) / 2 = 6. \n",
    "\n",
    "The next perfect number is 28 = 1 + 2 + 4 + 7 + 14. This is followed by the perfect numbers 496 and 8128.\n",
    "```\n"
   ]
  },
  {
   "cell_type": "code",
   "execution_count": 77,
   "metadata": {
    "id": "P-OI7H78HICs"
   },
   "outputs": [
    {
     "name": "stdout",
     "output_type": "stream",
     "text": [
      "16256\n"
     ]
    },
    {
     "data": {
      "text/plain": [
       "True"
      ]
     },
     "execution_count": 77,
     "metadata": {},
     "output_type": "execute_result"
    }
   ],
   "source": [
    "# Write code here (Done)\n",
    "\n",
    "def check_perfect_no(num):\n",
    "    sum = 0\n",
    "    for i in range(1,num//2+1+1):\n",
    "        if num%i == 0:\n",
    "            sum += i\n",
    "    sum += num\n",
    "    \n",
    "    if sum/2 == num:\n",
    "        return True\n",
    "    else:\n",
    "        return False\n",
    "    \n",
    "check_perfect_no(8128)    \n",
    "        "
   ]
  },
  {
   "cell_type": "markdown",
   "metadata": {
    "id": "oZdpcG77HO-6"
   },
   "source": [
    "### **`Problem-6:`** Write a Python function to concatenate any no of dictionaries to create a new one.\n",
    "\n",
    "```\n",
    "Sample Dictionary :\n",
    "dic1={1:10, 2:20}\n",
    "dic2={3:30, 4:40}\n",
    "dic3={5:50,6:60}\n",
    "Expected Result : {1: 10, 2: 20, 3: 30, 4: 40, 5: 50, 6: 60}\n",
    "```"
   ]
  },
  {
   "cell_type": "code",
   "execution_count": 82,
   "metadata": {
    "id": "LQgfAY4ZHPhj"
   },
   "outputs": [
    {
     "data": {
      "text/plain": [
       "{1: 10, 2: 20, 3: 30, 4: 40, 5: 50, 6: 60}"
      ]
     },
     "execution_count": 82,
     "metadata": {},
     "output_type": "execute_result"
    }
   ],
   "source": [
    "# Write code here (Done)\n",
    "def dict_append(*kwargs):\n",
    "    dict_f = {}\n",
    "    for i in kwargs:\n",
    "        dict_f.update(i)\n",
    "    return dict_f\n",
    "\n",
    "dic1={1:10, 2:20}\n",
    "dic2={3:30, 4:40}\n",
    "dic3={5:50,6:60}\n",
    "\n",
    "dict_append(dic1,dic2, dic3)\n"
   ]
  },
  {
   "cell_type": "markdown",
   "metadata": {
    "id": "jQ6SzbCkHRd0"
   },
   "source": [
    "### `Problem-7` Write a python function that accepts a string as input and returns the word with most occurence.\n",
    "\n",
    "```\n",
    "Input:\n",
    "hello how are you i am fine thank you\n",
    "```\n",
    "\n",
    "```\n",
    "Output\n",
    "you -> 2\n",
    "```"
   ]
  },
  {
   "cell_type": "code",
   "execution_count": 49,
   "metadata": {},
   "outputs": [
    {
     "data": {
      "text/plain": [
       "2"
      ]
     },
     "execution_count": 49,
     "metadata": {},
     "output_type": "execute_result"
    }
   ],
   "source": [
    "stri = 'hello how are you i am fine thank you'\n",
    "\n",
    "list1 = stri.split()\n",
    "\n",
    "unique_r = list(set(list1))\n",
    "\n",
    "unique_cnt = [list1.count(i) for i in unique_r]\n",
    "\n",
    "zip_list = {i:v for i,v in list(zip(unique_r, unique_cnt))}\n",
    "\n",
    "zip_list\n",
    "word = sorted(zip_list, reverse = True)[0]\n",
    "\n",
    "cnt = zip_list[word]\n",
    "\n",
    "cnt"
   ]
  },
  {
   "cell_type": "code",
   "execution_count": 54,
   "metadata": {
    "id": "Lh04JHLzIW7Z"
   },
   "outputs": [
    {
     "name": "stdout",
     "output_type": "stream",
     "text": [
      "Most frequent word is: you \n",
      "and \n",
      "its count is: 2\n"
     ]
    }
   ],
   "source": [
    "# Write code here (Done)\n",
    "\n",
    "def most_words(stri):\n",
    "    list1 = stri.split() #Split the string and form a list of unique words\n",
    "    unique_r = list(set(list1)) # Get the unique list of words\n",
    "    unique_cnt = [list1.count(i) for i in unique_r] # Get the word count\n",
    "    zip_list = {i:v for i,v in list(zip(unique_r, unique_cnt))} # form a dictionary with unique_word and their count\n",
    "    word = sorted(zip_list, reverse = True)[0] # Get the most frequent word\n",
    "    cnt = zip_list[word] # Get its count\n",
    "    return word, cnt\n",
    "\n",
    "stri = 'hello how are you i am fine thank you'\n",
    "\n",
    "word, cnt = most_words(stri)\n",
    "\n",
    "print(f\"Most frequent word is: {word} \\nand \\nits count is: {cnt}\")\n",
    "    \n",
    "    "
   ]
  },
  {
   "cell_type": "markdown",
   "metadata": {
    "id": "1r8SpVntI-IW"
   },
   "source": [
    "### `Problem-8` Write a python function that receives a list of integers and prints out a histogram of bin size 10\n",
    "\n",
    "```\n",
    "Input:\n",
    "[13,42,15,37,22,39,41,50]\n",
    "```\n",
    "\n",
    "```\n",
    "Output:\n",
    "{11-20:2,21-30:1,31-40:2,41-50:3}\n",
    "```"
   ]
  },
  {
   "cell_type": "code",
   "execution_count": 137,
   "metadata": {
    "id": "7W0J8rUjJovg"
   },
   "outputs": [
    {
     "name": "stdout",
     "output_type": "stream",
     "text": [
      "50\n",
      "11 20\n",
      "21 30\n",
      "31 40\n",
      "41 50\n"
     ]
    },
    {
     "data": {
      "text/plain": [
       "{'11-20': 2, '21-30': 1, '31-40': 2, '41-50': 3}"
      ]
     },
     "execution_count": 137,
     "metadata": {},
     "output_type": "execute_result"
    }
   ],
   "source": [
    "# Write code here (Done)\n",
    "\n",
    "def hist_out(list1):\n",
    "    min_v = min(list1)\n",
    "    max_v = max(list1)\n",
    "    \n",
    "    start_no = min_v - min_v%10 + 1\n",
    "    \n",
    "    if max_v%10==0:\n",
    "        max_end_no = max_v\n",
    "    else:\n",
    "        max_end_no = max_v - max_v%10 + 10\n",
    "    \n",
    "    print(max_end_no)\n",
    "    \n",
    "    dict_f = {}\n",
    "    while start_no+1 < max_end_no:\n",
    "        print(start_no, start_no+9)\n",
    "        dict_f[str(start_no)+\"-\"+str(start_no+9)] = len(list(filter(lambda x: x >=start_no and x <= start_no+9 , list1)))\n",
    "        \n",
    "        start_no += 10\n",
    "        \n",
    "    return dict_f\n",
    "\n",
    "list1 = [13,42,15,37,22,39,41,50]\n",
    "\n",
    "hist_out(list1)"
   ]
  },
  {
   "cell_type": "code",
   "execution_count": 125,
   "metadata": {},
   "outputs": [
    {
     "ename": "NameError",
     "evalue": "name 'dict_f' is not defined",
     "output_type": "error",
     "traceback": [
      "\u001b[1;31m---------------------------------------------------------------------------\u001b[0m",
      "\u001b[1;31mNameError\u001b[0m                                 Traceback (most recent call last)",
      "Input \u001b[1;32mIn [125]\u001b[0m, in \u001b[0;36m<cell line: 1>\u001b[1;34m()\u001b[0m\n\u001b[1;32m----> 1\u001b[0m \u001b[43mdict_f\u001b[49m\n",
      "\u001b[1;31mNameError\u001b[0m: name 'dict_f' is not defined"
     ]
    }
   ],
   "source": [
    "dict_f"
   ]
  },
  {
   "cell_type": "code",
   "execution_count": 123,
   "metadata": {},
   "outputs": [
    {
     "data": {
      "text/plain": [
       "1"
      ]
     },
     "execution_count": 123,
     "metadata": {},
     "output_type": "execute_result"
    }
   ],
   "source": [
    "list1 = [13,42,15,37,22,39,41,50]\n",
    "\n",
    "no1 = 21\n",
    "no2 = 30\n",
    "\n",
    "len(list(filter(lambda x: x >=no1 and x < no2 , list1)))\n",
    "\n",
    "#(lambda x,y:x+y,list1)\n",
    "#list(set(list(filter(lambda x:x in ['a','e','i','o','u'],stri.lower()))))"
   ]
  },
  {
   "cell_type": "markdown",
   "metadata": {
    "id": "1P2-rbgXKE53"
   },
   "source": [
    "### `Problem-9` Write a python function that accepts a list of 2D co-ordinates and a query point, and then finds the the co-ordinate which is closest in terms of distance from the query point.\n",
    "\n",
    "```\n",
    "List of Coordinates\n",
    "[(1,1),(2,2),(3,3),(4,4)]\n",
    "Query Point\n",
    "(0,0)\n",
    "```\n",
    "\n",
    "```\n",
    "Output\n",
    "Nearest to (0,0) is (1,1)\n",
    "```"
   ]
  },
  {
   "cell_type": "code",
   "execution_count": 64,
   "metadata": {
    "id": "zjn7vSTIJ81G"
   },
   "outputs": [
    {
     "name": "stdout",
     "output_type": "stream",
     "text": [
      "The distance between reference point (0, 0) and its nearest point (1, 1) is 1.4142135623730951\n"
     ]
    }
   ],
   "source": [
    "# Write code here (Done)\n",
    "\n",
    "def distance_coor(list1, ref_point):\n",
    "    dist = [((i[0] - ref_point[0])**2 + (i[1] - ref_point[1])**2) ** 0.5  for i in list1]\n",
    "    dict1 = {i:v for i,v in list(zip(list1, dist))}\n",
    "    kv = sorted(dict1)[0]\n",
    "    dist = dict1[kv]\n",
    "    \n",
    "    return kv, dist\n",
    "\n",
    "list1 = [(10,10),(1,1), (2,2),(3,3),(4,4)]\n",
    "\n",
    "ref_point = (0,0)\n",
    "\n",
    "out_coor, distance = distance_coor(list1, ref_point)\n",
    "\n",
    "print(f\"The distance between reference point {ref_point} and its nearest point {kv} is {distance}\")\n",
    "    "
   ]
  },
  {
   "cell_type": "code",
   "execution_count": 61,
   "metadata": {},
   "outputs": [
    {
     "data": {
      "text/plain": [
       "1.4142135623730951"
      ]
     },
     "execution_count": 61,
     "metadata": {},
     "output_type": "execute_result"
    }
   ],
   "source": [
    "list1 = [(10,10),(1,1), (2,2),(3,3),(4,4)]\n",
    "\n",
    "ref = (0,0)\n",
    "\n",
    "dist = [((i[0] - ref[0])**2 + (i[1] - ref[1])**2) ** 0.5  for i in list1]\n",
    "\n",
    "dict1 = {i:v for i,v in list(zip(list1, dist))}\n",
    "\n",
    "kv = sorted(dict1)[0]\n",
    "\n",
    "dict1[kv]"
   ]
  },
  {
   "cell_type": "markdown",
   "metadata": {
    "id": "i-B6igmyK9hB"
   },
   "source": [
    "### `Problem-10`:Write a python program that receives a list of strings and performs bag of word operation on those strings\n",
    "\n",
    "https://en.wikipedia.org/wiki/Bag-of-words_model"
   ]
  },
  {
   "cell_type": "code",
   "execution_count": 97,
   "metadata": {
    "id": "N2l1_AWULT-z"
   },
   "outputs": [
    {
     "data": {
      "text/plain": [
       "{'Write': 2,\n",
       " 'a': 4,\n",
       " 'Python': 1,\n",
       " 'program': 2,\n",
       " 'to': 2,\n",
       " 'create': 2,\n",
       " 'list': 2,\n",
       " 'containing': 2,\n",
       " 'the': 2,\n",
       " 'power': 2,\n",
       " 'Java': 1}"
      ]
     },
     "execution_count": 97,
     "metadata": {},
     "output_type": "execute_result"
    }
   ],
   "source": [
    "# Write code here (Done)\n",
    "\n",
    "def bog(list_of_strings):\n",
    "    dict_f = {}\n",
    "    word_list = []\n",
    "    for i in list_of_strings:\n",
    "        word_list.extend(i.split(\" \"))\n",
    "    unique_words = []\n",
    "    unique_cnt = []\n",
    "    \n",
    "    for j in word_list:\n",
    "        if word_list.count(j)>1:\n",
    "            dict_f[j] = word_list.count(j)\n",
    "        else:\n",
    "            dict_f[j] = 1\n",
    "    \n",
    "    return dict_f\n",
    "\n",
    "bog([\"Write a Python program to create a list containing the power\", \"Write a Java program to create a list containing the power\"])"
   ]
  },
  {
   "cell_type": "markdown",
   "metadata": {
    "id": "dHTRKb-DqMLw"
   },
   "source": [
    "### `Problem 11:` Write a Python program to add three given lists using Python map and lambda."
   ]
  },
  {
   "cell_type": "code",
   "execution_count": 107,
   "metadata": {
    "id": "NfJdzyNZqNW-"
   },
   "outputs": [
    {
     "data": {
      "text/plain": [
       "[19, 22, 25, 28, 31]"
      ]
     },
     "execution_count": 107,
     "metadata": {},
     "output_type": "execute_result"
    }
   ],
   "source": [
    "# Write code here (Done)\n",
    "list1 = [1,2,3,4,5,6]\n",
    "list2 = [7,8,9,10,11]\n",
    "list3 = [11,12,13,14,15]\n",
    "\n",
    "list(map(lambda x,y,z: x+y+z, list1,list2, list3))\n",
    "\n"
   ]
  },
  {
   "cell_type": "markdown",
   "metadata": {
    "id": "MgHP7mbUqO8l"
   },
   "source": [
    "### `Problem-12:`Write a Python program to create a list containing the power of said number in bases raised to the corresponding number in the index using Python map.\n",
    "`Input:`\n",
    "```\n",
    "list1 = [1,2,3,4,5,6]\n",
    "```\n",
    "`Output:`\n",
    "```\n",
    "[1,2,9,64,625,-]\n",
    "```\n"
   ]
  },
  {
   "cell_type": "code",
   "execution_count": 105,
   "metadata": {
    "id": "gG3Dc6N3qbvN"
   },
   "outputs": [
    {
     "data": {
      "text/plain": [
       "[1, 2, 9, 64, 625, 7776]"
      ]
     },
     "execution_count": 105,
     "metadata": {},
     "output_type": "execute_result"
    }
   ],
   "source": [
    "# Write code here (Done)\n",
    "list1 = [1,2,3,4,5,6]\n",
    "\n",
    "list(map(lambda x: x**list1.index(x), list1))"
   ]
  },
  {
   "cell_type": "markdown",
   "metadata": {
    "id": "G26SYq6vqdLN"
   },
   "source": [
    "### `Problem-13` Using filter() and list() functions and .lower() method filter all the vowels in a given string.\n",
    "\n"
   ]
  },
  {
   "cell_type": "code",
   "execution_count": 116,
   "metadata": {
    "id": "zurga3DIqmEx"
   },
   "outputs": [
    {
     "data": {
      "text/plain": [
       "['o', 'u', 'e', 'i', 'a']"
      ]
     },
     "execution_count": 116,
     "metadata": {},
     "output_type": "execute_result"
    }
   ],
   "source": [
    "# Write code here (Done)\n",
    "stri = 'Write a Python program you'\n",
    "list(set(list(filter(lambda x:x in ['a','e','i','o','u'],stri.lower()))))"
   ]
  },
  {
   "cell_type": "markdown",
   "metadata": {
    "id": "uQrsunZSqoYu"
   },
   "source": [
    "### `Problem-14`: Use reduce to convert a 2D list to 1D"
   ]
  },
  {
   "cell_type": "code",
   "execution_count": 117,
   "metadata": {
    "id": "E1YUwnfgqnka"
   },
   "outputs": [
    {
     "data": {
      "text/plain": [
       "[1, 2, 3, 4, 5, 6]"
      ]
     },
     "execution_count": 117,
     "metadata": {},
     "output_type": "execute_result"
    }
   ],
   "source": [
    "# Write code here (Done)\n",
    "list1 = [[1,2,3],[4,5,6]]\n",
    "\n",
    "import functools\n",
    "\n",
    "functools.reduce(lambda x,y:x+y,list1)"
   ]
  },
  {
   "cell_type": "markdown",
   "metadata": {
    "id": "8-DLQEawt-_t"
   },
   "source": [
    "### `Problem 15`- A dictionary contains following information about 5 employees:\n",
    "- First name\n",
    "- Last name\n",
    "- Age\n",
    "- Grade(Skilled,Semi-skilled,Highly skilled)<br>\n",
    "Write a program using map/filter/reduce to a list of employees(first name + last name) who are highly skilled"
   ]
  },
  {
   "cell_type": "code",
   "execution_count": 197,
   "metadata": {
    "id": "OLvptttLs6OU"
   },
   "outputs": [
    {
     "data": {
      "text/plain": [
       "['Gopinath Mishra', 'XYZ Kant']"
      ]
     },
     "execution_count": 197,
     "metadata": {},
     "output_type": "execute_result"
    }
   ],
   "source": [
    "# Write code here (Done)\n",
    "\n",
    "emp_dict1 = {'emp1':{'First_name': 'Gopinath', 'Last_name': 'Mishra', 'Age':44, 'Grade':'Highly skilled'}, 'emp2':{'First_name': 'XYZ', 'Last_name': 'Kant', 'Age':34, 'Grade':'Highly skilled'}, 'emp3':{'First_name': 'ABC', 'Last_name': 'Singh', 'Age':41, 'Grade':'Skilled'}, 'emp4':{'First_name': 'ABCD', 'Last_name': 'Singh', 'Age':39, 'Grade':'Skilled'}, 'emp4':{'First_name': 'PQR', 'Last_name': 'Singh', 'Age':48, 'Grade':'Semi-skilled'}}\n",
    "list1 = list(filter(lambda x: x  if x['Grade'] == 'Highly skilled' else None, emp_dict1.values()))\n",
    "list2 = list(map(lambda t: t['First_name'] +\" \"+ t['Last_name'], list1))\n",
    "list2"
   ]
  },
  {
   "cell_type": "code",
   "execution_count": 174,
   "metadata": {},
   "outputs": [
    {
     "data": {
      "text/plain": [
       "dict_values([{'a': 10, 'b': 30}, {'a': 20, 'b': 40}])"
      ]
     },
     "execution_count": 174,
     "metadata": {},
     "output_type": "execute_result"
    }
   ],
   "source": [
    "foo = {'m': {'a': 10, 'b':30}, 'n': {'a': 20, 'b':40}}\n",
    "foo.values()"
   ]
  },
  {
   "cell_type": "code",
   "execution_count": 184,
   "metadata": {},
   "outputs": [
    {
     "data": {
      "text/plain": [
       "[{'a': 10, 'b': 30}]"
      ]
     },
     "execution_count": 184,
     "metadata": {},
     "output_type": "execute_result"
    }
   ],
   "source": [
    "list(filter(lambda x: x['b'] if x['a'] == 10 else None, foo.values()))"
   ]
  },
  {
   "cell_type": "code",
   "execution_count": 176,
   "metadata": {},
   "outputs": [
    {
     "data": {
      "text/plain": [
       "[{'a': 10, 'b': 30}]"
      ]
     },
     "execution_count": 176,
     "metadata": {},
     "output_type": "execute_result"
    }
   ],
   "source": [
    "list(map(lambda t: foo[t], filter(lambda x: foo[x] if foo[x]['a']==10 else None,foo)))"
   ]
  },
  {
   "cell_type": "code",
   "execution_count": null,
   "metadata": {},
   "outputs": [],
   "source": []
  }
 ],
 "metadata": {
  "colab": {
   "provenance": []
  },
  "kernelspec": {
   "display_name": "Python 3 (ipykernel)",
   "language": "python",
   "name": "python3"
  },
  "language_info": {
   "codemirror_mode": {
    "name": "ipython",
    "version": 3
   },
   "file_extension": ".py",
   "mimetype": "text/x-python",
   "name": "python",
   "nbconvert_exporter": "python",
   "pygments_lexer": "ipython3",
   "version": "3.9.12"
  }
 },
 "nbformat": 4,
 "nbformat_minor": 1
}
