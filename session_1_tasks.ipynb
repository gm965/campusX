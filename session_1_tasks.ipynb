{
  "nbformat": 4,
  "nbformat_minor": 0,
  "metadata": {
    "colab": {
      "provenance": [],
      "collapsed_sections": []
    },
    "kernelspec": {
      "name": "python3",
      "display_name": "Python 3"
    },
    "language_info": {
      "name": "python"
    }
  },
  "cells": [
    {
      "cell_type": "markdown",
      "source": [
        "# Task : Session 1\n",
        "Solve these questions own your own and try to test yourself what you have learned in the session.\n",
        "\n",
        "Happy Learning!"
      ],
      "metadata": {
        "id": "A05OG15VqOPF"
      }
    },
    {
      "cell_type": "markdown",
      "source": [
        "### Q1 :- Print the given strings as per stated format.\n",
        "\n",
        "**Given strings**: \n",
        "```\n",
        "\"Data\" \"Science\" \"Mentorship\" \"Program\" \n",
        "\"By\" \"CampusX\"\n",
        "```\n",
        "**Output**: \n",
        "``` \n",
        "Data-Science-Mentorship-Program-started-By-CampusX\n",
        "```\n",
        "\n",
        "Concept- [Seperator and End]"
      ],
      "metadata": {
        "id": "2doIXf8bqe9_"
      }
    },
    {
      "cell_type": "code",
      "source": [
        "# Write your code here\n",
        "\n",
        "st1 = \"Data\" \n",
        "st2 = \"Science\" \n",
        "st3= \"Mentorship\" \n",
        "st4 = \"Program\" \n",
        "st5 = \"By\" \n",
        "st6 = \"CampusX\"\n",
        "\n",
        "print(st1,st2,st3, st4, sep = '-', end='-started-')\n",
        "print(st5,st6, sep = '-')"
      ],
      "metadata": {
        "id": "-em6d3KErDtp",
        "colab": {
          "base_uri": "https://localhost:8080/"
        },
        "outputId": "3f4d282d-69e4-4e8e-9185-60c6efaa0e0d"
      },
      "execution_count": 7,
      "outputs": [
        {
          "output_type": "stream",
          "name": "stdout",
          "text": [
            "Data-Science-Mentorship-Program-started-By-CampusX\n"
          ]
        }
      ]
    },
    {
      "cell_type": "markdown",
      "source": [
        "### Q2:- Write a program that will convert celsius value to fahrenheit."
      ],
      "metadata": {
        "id": "1KUpN7ZTrC3_"
      }
    },
    {
      "cell_type": "code",
      "source": [
        "# Write your code here\n",
        "print(\"Celsius to fahrenheit conversion\")\n",
        "\n",
        "celsius = float(input(\"Enter the temperature in celsius: \"))\n",
        "\n",
        "fahrenheit = celsius * (9/5) + 32\n",
        "\n",
        "print(f\"The fahrenheit equivalent of {celsius} celsius is {fahrenheit} fahrenheit\")"
      ],
      "metadata": {
        "id": "yxKYhYQiqWfj",
        "outputId": "047f2eb6-a110-479c-908c-cbd83e4c140e",
        "colab": {
          "base_uri": "https://localhost:8080/"
        }
      },
      "execution_count": null,
      "outputs": [
        {
          "output_type": "stream",
          "name": "stdout",
          "text": [
            "Celsius to fahrenheit conversion\n",
            "Enter the temperature in celsius: 100\n",
            "The fahrenheit equivalent of 100.0 celsius is 212.0 fahrenheit\n"
          ]
        }
      ]
    },
    {
      "cell_type": "markdown",
      "source": [
        "### Q3:- Take 2 numbers as input from the user.Write a program to swap the numbers without using any special python syntax."
      ],
      "metadata": {
        "id": "RLrOBBJurLB2"
      }
    },
    {
      "cell_type": "code",
      "source": [
        "# Write your code here\n",
        "\n",
        "a = int(input(\"Enter the first number: \"))\n",
        "b = int(input(\"Enter the second number: \"))\n",
        "\n",
        "print(f\"The original a & b before swap are: {a}, {b}\")\n",
        "\n",
        "temp = b\n",
        "b = a\n",
        "a = temp\n",
        "\n",
        "print(f\"The original a & b after swap are: {a}, {b}\")\n"
      ],
      "metadata": {
        "id": "yPn7if0TrJ4F",
        "outputId": "c8f95bb4-09a3-436e-e692-1e5959d2d2fe",
        "colab": {
          "base_uri": "https://localhost:8080/"
        }
      },
      "execution_count": null,
      "outputs": [
        {
          "output_type": "stream",
          "name": "stdout",
          "text": [
            "Enter the first number: 46\n",
            "Enter the second number: 52\n",
            "The original a & b before swap are: 46, 52\n",
            "The original a & b after swap are: 52, 46\n"
          ]
        }
      ]
    },
    {
      "cell_type": "markdown",
      "source": [
        "### Q4:- Write a program to find the euclidean distance between two coordinates.Take both the coordinates from the user as input."
      ],
      "metadata": {
        "id": "waLCP1bjr7ML"
      }
    },
    {
      "cell_type": "code",
      "source": [
        "# Write your code here\n",
        "print(\"Calculating euclidean distance given two coordinates\")\n",
        "\n",
        "print(\"Specify the first coordinate\")\n",
        "x1 = int(input(\"First coordinate (x1): \"))\n",
        "y1 = int(input(\"First coordinate (y1): \"))\n",
        "\n",
        "print(\"Specify the second coordinate\")\n",
        "x2 = int(input(\"Second coordinate (x2): \"))\n",
        "y2 = int(input(\"Second coordinate (y2): \"))\n",
        "\n",
        "distance = round(((x1 - x2)**2 + (y1 - y2)**2) ** 0.5,2)\n",
        "\n",
        "print(f\"The euclidean distance between ({x1},{y1}) and ({x2},{y2}) is {distance}\")"
      ],
      "metadata": {
        "id": "Pl1Sv-xnrxnH",
        "outputId": "288985d9-3e3d-4f8e-91eb-96f270fc03a4",
        "colab": {
          "base_uri": "https://localhost:8080/"
        }
      },
      "execution_count": null,
      "outputs": [
        {
          "output_type": "stream",
          "name": "stdout",
          "text": [
            "Calculating euclidean distance given two coordinates\n",
            "Specify the first coordinate\n",
            "First coordinate (x1): 2\n",
            "First coordinate (y1): 5\n",
            "Specify the second coordinate\n",
            "Second coordinate (x2): 7\n",
            "Second coordinate (y2): 8\n",
            "The euclidean distance between (2,5) and (7,8) is 5.83\n"
          ]
        }
      ]
    },
    {
      "cell_type": "markdown",
      "source": [
        "### Q5:- Write a program to find the simple interest when the value of principle,rate of interest and time period is provided by the user.\n"
      ],
      "metadata": {
        "id": "VLrhg-FRsHjR"
      }
    },
    {
      "cell_type": "code",
      "source": [
        "# Write your code here\n",
        "print(\"Calculate simple interest\")\n",
        "\n",
        "principle = float(input(\"Enter the principle amount (Rs): \"))\n",
        "roi = float(input(\"Enter the annual rate of interest (%): \"))\n",
        "time = int(input(\"Enter the time period (years): \"))\n",
        "\n",
        "simple_interest = round(principle * roi*time/100,2)\n",
        "\n",
        "print(f\"The simple interest on a principle of {principle} amount over a period of {time} years at annual interest of {roi}% = {simple_interest} \")"
      ],
      "metadata": {
        "id": "s40DlReZsTmY",
        "outputId": "0fbbb830-69a0-4e31-a962-5dfafb716c9c",
        "colab": {
          "base_uri": "https://localhost:8080/"
        }
      },
      "execution_count": null,
      "outputs": [
        {
          "output_type": "stream",
          "name": "stdout",
          "text": [
            "Calculate simple interest\n",
            "Enter the principle amount (Rs): 200\n",
            "Enter the annual rate of interest (%): 10\n",
            "Enter the time period (years): 1\n",
            "The simple interest on a principle of 200.0 amount over a period of 1 years at annual interest of 10.0% = 20.0 \n"
          ]
        }
      ]
    },
    {
      "cell_type": "markdown",
      "source": [
        "### Q6:- Write a program that will tell the number of dogs and chicken are there when the user will provide the value of total heads and legs.\n",
        "\n",
        "For example:\n",
        "Input:\n",
        "heads -> 4\n",
        "legs -> 12\n",
        "<br>\n",
        "Output:\n",
        "dogs -> 2\n",
        "chicken -> 2\n",
        "\n",
        "\n",
        "\n"
      ],
      "metadata": {
        "id": "LMy0BTUktYKa"
      }
    },
    {
      "cell_type": "code",
      "source": [
        "# Write your code here\n",
        "print(\"Number of dogs and chickens from total heads and legs calculation\")\n",
        "\n",
        "heads = int(input(\"Enter the total heads: \"))\n",
        "legs = int(input(\"Enter the total legs: \"))\n",
        "\n",
        "dogs = int((legs - 2 * heads)/2)\n",
        "chicken = heads - dogs\n",
        "\n",
        "print(f\"There are a total of {dogs} dogs and {chicken} chickens\")"
      ],
      "metadata": {
        "id": "XSBvJoA4tXaG",
        "outputId": "d538ea2b-9724-4387-d495-1f19b91850c0",
        "colab": {
          "base_uri": "https://localhost:8080/"
        }
      },
      "execution_count": null,
      "outputs": [
        {
          "output_type": "stream",
          "name": "stdout",
          "text": [
            "Number of dogs and chickens from total heads and legs calculation\n",
            "Enter the total heads4\n",
            "Enter the total legs12\n",
            "There are a total of 2 dogs and 2 chickens\n"
          ]
        }
      ]
    },
    {
      "cell_type": "markdown",
      "source": [
        "### Q7:- Write a program to find the sum of squares of first n natural numbers where n will be provided by the user."
      ],
      "metadata": {
        "id": "gJ7C5kZYt4BP"
      }
    },
    {
      "cell_type": "code",
      "source": [
        "# Write your code here\n",
        "print(\"The sum of squares of first n natural numbers\")\n",
        "\n",
        "n = int(input(\"Enter the number: \"))\n",
        "\n",
        "sum_of_squares = n * (n+1) * (2*n+1)/6\n",
        "\n",
        "print(f\"The sum of squares of first {n} natural numbers is: {sum_of_squares}\")"
      ],
      "metadata": {
        "id": "_tHsmEHzt2nX",
        "outputId": "9357f434-e7c8-44fa-f0bd-6fe8fbb81385",
        "colab": {
          "base_uri": "https://localhost:8080/"
        }
      },
      "execution_count": null,
      "outputs": [
        {
          "output_type": "stream",
          "name": "stdout",
          "text": [
            "The sum of squares of first n natural numbers\n",
            "Enter the number: 7\n",
            "The sum of squares of first 7 natural numbers is: 140.0\n"
          ]
        }
      ]
    },
    {
      "cell_type": "markdown",
      "source": [
        "### Q8:- Given the first 2 terms of an Arithmetic Series.Find the Nth term of the series. Assume all inputs are provided by the user."
      ],
      "metadata": {
        "id": "FHrMM7g-yG1h"
      }
    },
    {
      "cell_type": "code",
      "source": [
        "# Write your code here\n",
        "print(\"Finding Nth term of the Arithmetic series\")\n",
        "\n",
        "first_number = int(input(\"Enter the first number: \"))\n",
        "second_number = int(input(\"Enter the second number: \"))\n",
        "\n",
        "difference = second_number - first_number\n",
        "\n",
        "nth_term = int(input(\"Enter the Nth number: \"))\n",
        "\n",
        "nth_number = first_number + (nth_term - 1) * difference\n",
        "\n",
        "print(f\"The Nth term of an Arithmetic series with numbers starting at {first_number} and {second_number} is {nth_number}\")\n"
      ],
      "metadata": {
        "id": "go4_kmZmyVSx",
        "colab": {
          "base_uri": "https://localhost:8080/"
        },
        "outputId": "be5ed62a-8d17-446b-ba11-3d76b5e6bea6"
      },
      "execution_count": 1,
      "outputs": [
        {
          "output_type": "stream",
          "name": "stdout",
          "text": [
            "Finding Nth term of the Arithmetic series\n",
            "Enter the first number: 1\n",
            "Enter the second number: 2\n",
            "Enter the Nth number: 10\n",
            "The Nth term of an Arithmetic series with numbers starting at 1 and 1 is 10\n"
          ]
        }
      ]
    },
    {
      "cell_type": "markdown",
      "source": [
        "### Q9:- Given 2 fractions, find the sum of those 2 fractions.Take the numerator and denominator values of the fractions from the user."
      ],
      "metadata": {
        "id": "QgyRX_es1oum"
      }
    },
    {
      "cell_type": "code",
      "source": [
        "# Write your code here\n",
        "print(\"Define the first fraction\")\n",
        "num_1 = float(input(\"Enter the numerator of first fraction: \"))\n",
        "den_1 = float(input(\"Enter the denominator of first fraction: \"))\n",
        "\n",
        "first_number = num_1/den_1\n",
        "\n",
        "num_2 = float(input(\"Enter the numerator of second fraction: \"))\n",
        "den_2 = float(input(\"Enter the denominator of second fraction: \"))\n",
        "\n",
        "second_number = num_2/den_2\n",
        "\n",
        "sum_of_fraction = round(first_number + second_number,3)\n",
        "\n",
        "print(f\"The sum of fractions are: {sum_of_fraction}\")"
      ],
      "metadata": {
        "id": "X05xqFS1yW16",
        "outputId": "04b4c681-3432-4b0b-b980-d39300d635a8",
        "colab": {
          "base_uri": "https://localhost:8080/"
        }
      },
      "execution_count": null,
      "outputs": [
        {
          "output_type": "stream",
          "name": "stdout",
          "text": [
            "Define the first fraction\n",
            "Enter the numerator of first fraction10\n",
            "Enter the denominator of first fraction20\n",
            "Enter the numerator of second fraction5\n",
            "Enter the denominator of second fraction10\n",
            "The sum of fractions are: 1.0\n"
          ]
        }
      ]
    },
    {
      "cell_type": "markdown",
      "source": [
        "### Q10:- Given the height, width and breadth of a milk tank, you have to find out how many glasses of milk can be obtained? Assume all the inputs are provided by the user.\n",
        "\n",
        "\n",
        "\n",
        "Input:<br>\n",
        "Dimensions of the milk tank<br>\n",
        "H = 20cm, L = 20cm, B = 20cm\n",
        "<br><br>\n",
        "Dimensions of the glass<br>\n",
        "h = 3cm, r = 1cm"
      ],
      "metadata": {
        "id": "eaql38ln13u7"
      }
    },
    {
      "cell_type": "code",
      "source": [
        "# Write your code here\n",
        "print(\"Specify the dimension of the milk tank\")\n",
        "height = float(input(\"Enter the height of the tank (cms.): \"))\n",
        "length = float(input(\"Enter the length of the tank (cms.): \"))\n",
        "breadth = float(input(\"Enter the breadth of the tank (cms.): \"))\n",
        "\n",
        "volume_milk_tank = height * length * breadth\n",
        "\n",
        "print(\"Specify the dimension of the glass\")\n",
        "height_g = float(input(\"Enter the height of the glass (cms.): \"))\n",
        "radius_g = float(input(\"Enter the radius of the glass (cms.): \"))\n",
        "\n",
        "volume_glass = (22/7) * height_g * (radius_g**2)\n",
        "\n",
        "no_of_glasses = round(volume_milk_tank/volume_glass)\n",
        "\n",
        "print(f\"Glasses that can be filled with milk from milk tank: {no_of_glasses}\")"
      ],
      "metadata": {
        "id": "FePZqno74eWv",
        "outputId": "8d13ef49-c4e5-47c3-ce25-466251026ce0",
        "colab": {
          "base_uri": "https://localhost:8080/"
        }
      },
      "execution_count": null,
      "outputs": [
        {
          "output_type": "stream",
          "name": "stdout",
          "text": [
            "Specify the dimension of the milk tank\n",
            "Enter the height of the tank (cms.): 20\n",
            "Enter the length of the tank (cms.): 20\n",
            "Enter the breadth of the tank (cms.): 20\n",
            "Specify the dimension of the glass\n",
            "Enter the height of the glass (cms.): 3\n",
            "Enter the radius of the glass (cms.): 1\n",
            "Glasses that can be filled with milk from milk tank: 848\n"
          ]
        }
      ]
    },
    {
      "cell_type": "code",
      "source": [],
      "metadata": {
        "id": "B4C4f6VOHSam"
      },
      "execution_count": null,
      "outputs": []
    }
  ]
}