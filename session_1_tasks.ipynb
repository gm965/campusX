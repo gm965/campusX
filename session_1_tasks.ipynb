{
 "cells": [
  {
   "cell_type": "markdown",
   "metadata": {
    "id": "A05OG15VqOPF"
   },
   "source": [
    "# Task : Session 1\n",
    "Solve these questions own your own and try to test yourself what you have learned in the session.\n",
    "\n",
    "Happy Learning!"
   ]
  },
  {
   "cell_type": "markdown",
   "metadata": {
    "id": "2doIXf8bqe9_"
   },
   "source": [
    "### Q1 :- Print the given strings as per stated format.\n",
    "\n",
    "**Given strings**: \n",
    "```\n",
    "\"Data\" \"Science\" \"Mentorship\" \"Program\" \n",
    "\"By\" \"CampusX\"\n",
    "```\n",
    "**Output**: \n",
    "``` \n",
    "Data-Science-Mentorship-Program-started-By-CampusX\n",
    "```\n",
    "\n",
    "Concept- [Seperator and End]"
   ]
  },
  {
   "cell_type": "code",
   "execution_count": 1,
   "metadata": {
    "colab": {
     "base_uri": "https://localhost:8080/"
    },
    "id": "-em6d3KErDtp",
    "outputId": "423c663c-f5e4-4632-8809-8440d33905a8"
   },
   "outputs": [
    {
     "name": "stdout",
     "output_type": "stream",
     "text": [
      "Data-Science-Mentorship-Program-started-By-CampusX\n"
     ]
    }
   ],
   "source": [
    "# Write your code here\n",
    "\n",
    "st1 = \"Data\" \n",
    "st2 = \"Science\" \n",
    "st3= \"Mentorship\" \n",
    "st4 = \"Program\" \n",
    "st5 = \"By\" \n",
    "st6 = \"CampusX\"\n",
    "\n",
    "print(st1,st2,st3, st4, sep = '-', end='-started-')\n",
    "print(st5,st6, sep = '-')"
   ]
  },
  {
   "cell_type": "markdown",
   "metadata": {
    "id": "1KUpN7ZTrC3_"
   },
   "source": [
    "### Q2:- Write a program that will convert celsius value to fahrenheit."
   ]
  },
  {
   "cell_type": "code",
   "execution_count": 2,
   "metadata": {
    "colab": {
     "base_uri": "https://localhost:8080/"
    },
    "id": "yxKYhYQiqWfj",
    "outputId": "9ab92a20-f2b3-4878-d5a7-e1151dc3ac62"
   },
   "outputs": [
    {
     "name": "stdout",
     "output_type": "stream",
     "text": [
      "Celsius to fahrenheit conversion\n",
      "Enter the temperature in celsius: 100\n",
      "The fahrenheit equivalent of 100.0 celsius is 212.0 fahrenheit\n"
     ]
    }
   ],
   "source": [
    "# Write your code here\n",
    "print(\"Celsius to fahrenheit conversion\")\n",
    "\n",
    "celsius = float(input(\"Enter the temperature in celsius: \"))\n",
    "\n",
    "fahrenheit = celsius * (9/5) + 32\n",
    "\n",
    "print(f\"The fahrenheit equivalent of {celsius} celsius is {fahrenheit} fahrenheit\")"
   ]
  },
  {
   "cell_type": "markdown",
   "metadata": {
    "id": "RLrOBBJurLB2"
   },
   "source": [
    "### Q3:- Take 2 numbers as input from the user.Write a program to swap the numbers without using any special python syntax."
   ]
  },
  {
   "cell_type": "code",
   "execution_count": 3,
   "metadata": {
    "colab": {
     "base_uri": "https://localhost:8080/"
    },
    "id": "yPn7if0TrJ4F",
    "outputId": "6f9e32c6-8bc3-40b3-8edf-d86963d240d7"
   },
   "outputs": [
    {
     "name": "stdout",
     "output_type": "stream",
     "text": [
      "Enter the first number: 5\n",
      "Enter the second number: 6\n",
      "The original a & b before swap are: 5, 6\n",
      "The original a & b after swap are: 6, 5\n"
     ]
    }
   ],
   "source": [
    "# Write your code here\n",
    "\n",
    "a = int(input(\"Enter the first number: \"))\n",
    "b = int(input(\"Enter the second number: \"))\n",
    "\n",
    "print(f\"The original a & b before swap are: {a}, {b}\")\n",
    "\n",
    "temp = b\n",
    "b = a\n",
    "a = temp\n",
    "\n",
    "print(f\"The original a & b after swap are: {a}, {b}\")\n"
   ]
  },
  {
   "cell_type": "markdown",
   "metadata": {
    "id": "waLCP1bjr7ML"
   },
   "source": [
    "### Q4:- Write a program to find the euclidean distance between two coordinates.Take both the coordinates from the user as input."
   ]
  },
  {
   "cell_type": "code",
   "execution_count": 4,
   "metadata": {
    "colab": {
     "base_uri": "https://localhost:8080/"
    },
    "id": "Pl1Sv-xnrxnH",
    "outputId": "f97cb567-1dba-49df-9ce9-ae37a7c1907f"
   },
   "outputs": [
    {
     "name": "stdout",
     "output_type": "stream",
     "text": [
      "Calculating euclidean distance given two coordinates\n",
      "Specify the first coordinate\n",
      "First coordinate (x1): 10\n",
      "First coordinate (y1): 20\n",
      "Specify the second coordinate\n",
      "Second coordinate (x2): 5\n",
      "Second coordinate (y2): 6\n",
      "The euclidean distance between (10,20) and (5,6) is 14.87\n"
     ]
    }
   ],
   "source": [
    "# Write your code here\n",
    "print(\"Calculating euclidean distance given two coordinates\")\n",
    "\n",
    "print(\"Specify the first coordinate\")\n",
    "x1 = int(input(\"First coordinate (x1): \"))\n",
    "y1 = int(input(\"First coordinate (y1): \"))\n",
    "\n",
    "print(\"Specify the second coordinate\")\n",
    "x2 = int(input(\"Second coordinate (x2): \"))\n",
    "y2 = int(input(\"Second coordinate (y2): \"))\n",
    "\n",
    "distance = round(((x1 - x2)**2 + (y1 - y2)**2) ** 0.5,2)\n",
    "\n",
    "print(f\"The euclidean distance between ({x1},{y1}) and ({x2},{y2}) is {distance}\")"
   ]
  },
  {
   "cell_type": "markdown",
   "metadata": {
    "id": "VLrhg-FRsHjR"
   },
   "source": [
    "### Q5:- Write a program to find the simple interest when the value of principle,rate of interest and time period is provided by the user.\n"
   ]
  },
  {
   "cell_type": "code",
   "execution_count": 5,
   "metadata": {
    "colab": {
     "base_uri": "https://localhost:8080/"
    },
    "id": "s40DlReZsTmY",
    "outputId": "b618d919-3253-4c94-b33d-2648288384b7"
   },
   "outputs": [
    {
     "name": "stdout",
     "output_type": "stream",
     "text": [
      "Calculate simple interest\n",
      "Enter the principle amount (Rs): 1000\n",
      "Enter the annual rate of interest (%): 10\n",
      "Enter the time period (years): 1\n",
      "The simple interest on a principle of 1000.0 amount over a period of 1 years at annual interest of 10.0% = 100.0 \n"
     ]
    }
   ],
   "source": [
    "# Write your code here\n",
    "print(\"Calculate simple interest\")\n",
    "\n",
    "principle = float(input(\"Enter the principle amount (Rs): \"))\n",
    "roi = float(input(\"Enter the annual rate of interest (%): \"))\n",
    "time = int(input(\"Enter the time period (years): \"))\n",
    "\n",
    "simple_interest = round(principle * roi*time/100,2)\n",
    "\n",
    "print(f\"The simple interest on a principle of {principle} amount over a period of {time} years at annual interest of {roi}% = {simple_interest} \")"
   ]
  },
  {
   "cell_type": "markdown",
   "metadata": {
    "id": "LMy0BTUktYKa"
   },
   "source": [
    "### Q6:- Write a program that will tell the number of dogs and chicken are there when the user will provide the value of total heads and legs.\n",
    "\n",
    "For example:\n",
    "Input:\n",
    "heads -> 4\n",
    "legs -> 12\n",
    "<br>\n",
    "Output:\n",
    "dogs -> 2\n",
    "chicken -> 2\n",
    "\n",
    "\n",
    "\n"
   ]
  },
  {
   "cell_type": "code",
   "execution_count": 6,
   "metadata": {
    "colab": {
     "base_uri": "https://localhost:8080/"
    },
    "id": "XSBvJoA4tXaG",
    "outputId": "c8f86613-55b2-4157-e213-83e97b7898b8"
   },
   "outputs": [
    {
     "name": "stdout",
     "output_type": "stream",
     "text": [
      "Number of dogs and chickens from total heads and legs calculation\n",
      "Enter the total heads: 4\n",
      "Enter the total legs: 12\n",
      "There are a total of 2 dogs and 2 chickens\n"
     ]
    }
   ],
   "source": [
    "# Write your code here\n",
    "print(\"Number of dogs and chickens from total heads and legs calculation\")\n",
    "\n",
    "heads = int(input(\"Enter the total heads: \"))\n",
    "legs = int(input(\"Enter the total legs: \"))\n",
    "\n",
    "dogs = int((legs - 2 * heads)/2)\n",
    "chicken = heads - dogs\n",
    "\n",
    "print(f\"There are a total of {dogs} dogs and {chicken} chickens\")"
   ]
  },
  {
   "cell_type": "markdown",
   "metadata": {
    "id": "gJ7C5kZYt4BP"
   },
   "source": [
    "### Q7:- Write a program to find the sum of squares of first n natural numbers where n will be provided by the user."
   ]
  },
  {
   "cell_type": "code",
   "execution_count": 7,
   "metadata": {
    "colab": {
     "base_uri": "https://localhost:8080/"
    },
    "id": "_tHsmEHzt2nX",
    "outputId": "6d7b2746-f719-4047-946c-d1da2873f05f"
   },
   "outputs": [
    {
     "name": "stdout",
     "output_type": "stream",
     "text": [
      "The sum of squares of first n natural numbers\n",
      "Enter the number: 10\n",
      "The sum of squares of first 10 natural numbers is: 385.0\n"
     ]
    }
   ],
   "source": [
    "# Write your code here\n",
    "print(\"The sum of squares of first n natural numbers\")\n",
    "\n",
    "n = int(input(\"Enter the number: \"))\n",
    "\n",
    "sum_of_squares = n * (n+1) * (2*n+1)/6\n",
    "\n",
    "print(f\"The sum of squares of first {n} natural numbers is: {sum_of_squares}\")"
   ]
  },
  {
   "cell_type": "markdown",
   "metadata": {
    "id": "FHrMM7g-yG1h"
   },
   "source": [
    "### Q8:- Given the first 2 terms of an Arithmetic Series.Find the Nth term of the series. Assume all inputs are provided by the user."
   ]
  },
  {
   "cell_type": "code",
   "execution_count": 8,
   "metadata": {
    "colab": {
     "base_uri": "https://localhost:8080/"
    },
    "id": "go4_kmZmyVSx",
    "outputId": "a5383083-6574-4ce0-a5e7-3d7a662c06b7"
   },
   "outputs": [
    {
     "name": "stdout",
     "output_type": "stream",
     "text": [
      "Finding Nth term of the Arithmetic series\n",
      "Enter the first number: 5\n",
      "Enter the second number: 8\n",
      "Enter the Nth number: 10\n",
      "The Nth term of an Arithmetic series with numbers starting at 5 and 8 is 32\n"
     ]
    }
   ],
   "source": [
    "# Write your code here\n",
    "print(\"Finding Nth term of the Arithmetic series\")\n",
    "\n",
    "first_number = int(input(\"Enter the first number: \"))\n",
    "second_number = int(input(\"Enter the second number: \"))\n",
    "\n",
    "difference = second_number - first_number\n",
    "\n",
    "nth_term = int(input(\"Enter the Nth number: \"))\n",
    "\n",
    "nth_number = first_number + (nth_term - 1) * difference\n",
    "\n",
    "print(f\"The Nth term of an Arithmetic series with numbers starting at {first_number} and {second_number} is {nth_number}\")\n"
   ]
  },
  {
   "cell_type": "markdown",
   "metadata": {
    "id": "QgyRX_es1oum"
   },
   "source": [
    "### Q9:- Given 2 fractions, find the sum of those 2 fractions.Take the numerator and denominator values of the fractions from the user."
   ]
  },
  {
   "cell_type": "code",
   "execution_count": 9,
   "metadata": {
    "colab": {
     "base_uri": "https://localhost:8080/"
    },
    "id": "X05xqFS1yW16",
    "outputId": "c744d7cd-b2e8-47d8-e593-805b61d6faa1"
   },
   "outputs": [
    {
     "name": "stdout",
     "output_type": "stream",
     "text": [
      "Define the first fraction\n",
      "Enter the numerator of first fraction: 5\n",
      "Enter the denominator of first fraction: 6\n",
      "Enter the numerator of second fraction: 2\n",
      "Enter the denominator of second fraction: 6\n",
      "The sum of fractions are: 1.167\n"
     ]
    }
   ],
   "source": [
    "# Write your code here\n",
    "print(\"Define the first fraction\")\n",
    "num_1 = float(input(\"Enter the numerator of first fraction: \"))\n",
    "den_1 = float(input(\"Enter the denominator of first fraction: \"))\n",
    "\n",
    "first_number = num_1/den_1\n",
    "\n",
    "num_2 = float(input(\"Enter the numerator of second fraction: \"))\n",
    "den_2 = float(input(\"Enter the denominator of second fraction: \"))\n",
    "\n",
    "second_number = num_2/den_2\n",
    "\n",
    "sum_of_fraction = round(first_number + second_number,3)\n",
    "\n",
    "print(f\"The sum of fractions are: {sum_of_fraction}\")"
   ]
  },
  {
   "cell_type": "markdown",
   "metadata": {
    "id": "eaql38ln13u7"
   },
   "source": [
    "### Q10:- Given the height, width and breadth of a milk tank, you have to find out how many glasses of milk can be obtained? Assume all the inputs are provided by the user.\n",
    "\n",
    "\n",
    "\n",
    "Input:<br>\n",
    "Dimensions of the milk tank<br>\n",
    "H = 20cm, L = 20cm, B = 20cm\n",
    "<br><br>\n",
    "Dimensions of the glass<br>\n",
    "h = 3cm, r = 1cm"
   ]
  },
  {
   "cell_type": "code",
   "execution_count": 10,
   "metadata": {
    "colab": {
     "base_uri": "https://localhost:8080/"
    },
    "id": "FePZqno74eWv",
    "outputId": "4c7de319-49ab-4afa-db76-e7878dda224f"
   },
   "outputs": [
    {
     "name": "stdout",
     "output_type": "stream",
     "text": [
      "Specify the dimension of the milk tank\n",
      "Enter the height of the tank (cms.): 20\n",
      "Enter the length of the tank (cms.): 20\n",
      "Enter the breadth of the tank (cms.): 20\n",
      "Specify the dimension of the glass\n",
      "Enter the height of the glass (cms.): 3\n",
      "Enter the radius of the glass (cms.): 1\n",
      "Glasses that can be filled with milk from milk tank: 848\n"
     ]
    }
   ],
   "source": [
    "# Write your code here\n",
    "print(\"Specify the dimension of the milk tank\")\n",
    "height = float(input(\"Enter the height of the tank (cms.): \"))\n",
    "length = float(input(\"Enter the length of the tank (cms.): \"))\n",
    "breadth = float(input(\"Enter the breadth of the tank (cms.): \"))\n",
    "\n",
    "volume_milk_tank = height * length * breadth\n",
    "\n",
    "print(\"Specify the dimension of the glass\")\n",
    "height_g = float(input(\"Enter the height of the glass (cms.): \"))\n",
    "radius_g = float(input(\"Enter the radius of the glass (cms.): \"))\n",
    "\n",
    "volume_glass = (22/7) * height_g * (radius_g**2)\n",
    "\n",
    "no_of_glasses = round(volume_milk_tank/volume_glass)\n",
    "\n",
    "print(f\"Glasses that can be filled with milk from milk tank: {no_of_glasses}\")"
   ]
  },
  {
   "cell_type": "code",
   "execution_count": null,
   "metadata": {
    "id": "B4C4f6VOHSam"
   },
   "outputs": [],
   "source": []
  }
 ],
 "metadata": {
  "colab": {
   "collapsed_sections": [],
   "provenance": []
  },
  "kernelspec": {
   "display_name": "Python 3 (ipykernel)",
   "language": "python",
   "name": "python3"
  },
  "language_info": {
   "codemirror_mode": {
    "name": "ipython",
    "version": 3
   },
   "file_extension": ".py",
   "mimetype": "text/x-python",
   "name": "python",
   "nbconvert_exporter": "python",
   "pygments_lexer": "ipython3",
   "version": "3.9.12"
  }
 },
 "nbformat": 4,
 "nbformat_minor": 1
}
