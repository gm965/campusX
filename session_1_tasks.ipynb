{
  "nbformat": 4,
  "nbformat_minor": 0,
  "metadata": {
    "colab": {
      "provenance": [],
      "collapsed_sections": [],
      "include_colab_link": true
    },
    "kernelspec": {
      "name": "python3",
      "display_name": "Python 3"
    },
    "language_info": {
      "name": "python"
    }
  },
  "cells": [
    {
      "cell_type": "markdown",
      "metadata": {
        "id": "view-in-github",
        "colab_type": "text"
      },
      "source": [
        "<a href=\"https://colab.research.google.com/github/gm965/campusX/blob/main/session_1_tasks.ipynb\" target=\"_parent\"><img src=\"https://colab.research.google.com/assets/colab-badge.svg\" alt=\"Open In Colab\"/></a>"
      ]
    },
    {
      "cell_type": "markdown",
      "source": [
        "# Task : Session 1\n",
        "Solve these questions own your own and try to test yourself what you have learned in the session.\n",
        "\n",
        "Happy Learning!"
      ],
      "metadata": {
        "id": "A05OG15VqOPF"
      }
    },
    {
      "cell_type": "markdown",
      "source": [
        "### Q1 :- Print the given strings as per stated format.\n",
        "\n",
        "**Given strings**: \n",
        "```\n",
        "\"Data\" \"Science\" \"Mentorship\" \"Program\" \n",
        "\"By\" \"CampusX\"\n",
        "```\n",
        "**Output**: \n",
        "``` \n",
        "Data-Science-Mentorship-Program-started-By-CampusX\n",
        "```\n",
        "\n",
        "Concept- [Seperator and End]"
      ],
      "metadata": {
        "id": "2doIXf8bqe9_"
      }
    },
    {
      "cell_type": "code",
      "source": [
        "# Write your code here\n",
        "\n",
        "st1 = \"Data\" \n",
        "st2 = \"Science\" \n",
        "st3= \"Mentorship\" \n",
        "st4 = \"Program\" \n",
        "st5 = \"By\" \n",
        "st6 = \"CampusX\"\n",
        "\n",
        "print(st1,st2,st3, st4, sep = '-', end='-started-')\n",
        "print(st5,st6, sep = '-')"
      ],
      "metadata": {
        "id": "-em6d3KErDtp",
        "colab": {
          "base_uri": "https://localhost:8080/"
        },
        "outputId": "423c663c-f5e4-4632-8809-8440d33905a8"
      },
      "execution_count": 11,
      "outputs": [
        {
          "output_type": "stream",
          "name": "stdout",
          "text": [
            "Data-Science-Mentorship-Program-started-By-CampusX\n"
          ]
        }
      ]
    },
    {
      "cell_type": "markdown",
      "source": [
        "### Q2:- Write a program that will convert celsius value to fahrenheit."
      ],
      "metadata": {
        "id": "1KUpN7ZTrC3_"
      }
    },
    {
      "cell_type": "code",
      "source": [
        "# Write your code here\n",
        "print(\"Celsius to fahrenheit conversion\")\n",
        "\n",
        "celsius = float(input(\"Enter the temperature in celsius: \"))\n",
        "\n",
        "fahrenheit = celsius * (9/5) + 32\n",
        "\n",
        "print(f\"The fahrenheit equivalent of {celsius} celsius is {fahrenheit} fahrenheit\")"
      ],
      "metadata": {
        "id": "yxKYhYQiqWfj",
        "outputId": "9ab92a20-f2b3-4878-d5a7-e1151dc3ac62",
        "colab": {
          "base_uri": "https://localhost:8080/"
        }
      },
      "execution_count": 12,
      "outputs": [
        {
          "output_type": "stream",
          "name": "stdout",
          "text": [
            "Celsius to fahrenheit conversion\n",
            "Enter the temperature in celsius: 100\n",
            "The fahrenheit equivalent of 100.0 celsius is 212.0 fahrenheit\n"
          ]
        }
      ]
    },
    {
      "cell_type": "markdown",
      "source": [
        "### Q3:- Take 2 numbers as input from the user.Write a program to swap the numbers without using any special python syntax."
      ],
      "metadata": {
        "id": "RLrOBBJurLB2"
      }
    },
    {
      "cell_type": "code",
      "source": [
        "# Write your code here\n",
        "\n",
        "a = int(input(\"Enter the first number: \"))\n",
        "b = int(input(\"Enter the second number: \"))\n",
        "\n",
        "print(f\"The original a & b before swap are: {a}, {b}\")\n",
        "\n",
        "temp = b\n",
        "b = a\n",
        "a = temp\n",
        "\n",
        "print(f\"The original a & b after swap are: {a}, {b}\")\n"
      ],
      "metadata": {
        "id": "yPn7if0TrJ4F",
        "outputId": "6f9e32c6-8bc3-40b3-8edf-d86963d240d7",
        "colab": {
          "base_uri": "https://localhost:8080/"
        }
      },
      "execution_count": 13,
      "outputs": [
        {
          "output_type": "stream",
          "name": "stdout",
          "text": [
            "Enter the first number: 10\n",
            "Enter the second number: 20\n",
            "The original a & b before swap are: 10, 20\n",
            "The original a & b after swap are: 20, 10\n"
          ]
        }
      ]
    },
    {
      "cell_type": "markdown",
      "source": [
        "### Q4:- Write a program to find the euclidean distance between two coordinates.Take both the coordinates from the user as input."
      ],
      "metadata": {
        "id": "waLCP1bjr7ML"
      }
    },
    {
      "cell_type": "code",
      "source": [
        "# Write your code here\n",
        "print(\"Calculating euclidean distance given two coordinates\")\n",
        "\n",
        "print(\"Specify the first coordinate\")\n",
        "x1 = int(input(\"First coordinate (x1): \"))\n",
        "y1 = int(input(\"First coordinate (y1): \"))\n",
        "\n",
        "print(\"Specify the second coordinate\")\n",
        "x2 = int(input(\"Second coordinate (x2): \"))\n",
        "y2 = int(input(\"Second coordinate (y2): \"))\n",
        "\n",
        "distance = round(((x1 - x2)**2 + (y1 - y2)**2) ** 0.5,2)\n",
        "\n",
        "print(f\"The euclidean distance between ({x1},{y1}) and ({x2},{y2}) is {distance}\")"
      ],
      "metadata": {
        "id": "Pl1Sv-xnrxnH",
        "outputId": "f97cb567-1dba-49df-9ce9-ae37a7c1907f",
        "colab": {
          "base_uri": "https://localhost:8080/"
        }
      },
      "execution_count": 14,
      "outputs": [
        {
          "output_type": "stream",
          "name": "stdout",
          "text": [
            "Calculating euclidean distance given two coordinates\n",
            "Specify the first coordinate\n",
            "First coordinate (x1): 10\n",
            "First coordinate (y1): 20\n",
            "Specify the second coordinate\n",
            "Second coordinate (x2): 10\n",
            "Second coordinate (y2): 20\n",
            "The euclidean distance between (10,20) and (10,20) is 0.0\n"
          ]
        }
      ]
    },
    {
      "cell_type": "markdown",
      "source": [
        "### Q5:- Write a program to find the simple interest when the value of principle,rate of interest and time period is provided by the user.\n"
      ],
      "metadata": {
        "id": "VLrhg-FRsHjR"
      }
    },
    {
      "cell_type": "code",
      "source": [
        "# Write your code here\n",
        "print(\"Calculate simple interest\")\n",
        "\n",
        "principle = float(input(\"Enter the principle amount (Rs): \"))\n",
        "roi = float(input(\"Enter the annual rate of interest (%): \"))\n",
        "time = int(input(\"Enter the time period (years): \"))\n",
        "\n",
        "simple_interest = round(principle * roi*time/100,2)\n",
        "\n",
        "print(f\"The simple interest on a principle of {principle} amount over a period of {time} years at annual interest of {roi}% = {simple_interest} \")"
      ],
      "metadata": {
        "id": "s40DlReZsTmY",
        "outputId": "b618d919-3253-4c94-b33d-2648288384b7",
        "colab": {
          "base_uri": "https://localhost:8080/"
        }
      },
      "execution_count": 15,
      "outputs": [
        {
          "output_type": "stream",
          "name": "stdout",
          "text": [
            "Calculate simple interest\n",
            "Enter the principle amount (Rs): 1000\n",
            "Enter the annual rate of interest (%): 10\n",
            "Enter the time period (years): 2\n",
            "The simple interest on a principle of 1000.0 amount over a period of 2 years at annual interest of 10.0% = 200.0 \n"
          ]
        }
      ]
    },
    {
      "cell_type": "markdown",
      "source": [
        "### Q6:- Write a program that will tell the number of dogs and chicken are there when the user will provide the value of total heads and legs.\n",
        "\n",
        "For example:\n",
        "Input:\n",
        "heads -> 4\n",
        "legs -> 12\n",
        "<br>\n",
        "Output:\n",
        "dogs -> 2\n",
        "chicken -> 2\n",
        "\n",
        "\n",
        "\n"
      ],
      "metadata": {
        "id": "LMy0BTUktYKa"
      }
    },
    {
      "cell_type": "code",
      "source": [
        "# Write your code here\n",
        "print(\"Number of dogs and chickens from total heads and legs calculation\")\n",
        "\n",
        "heads = int(input(\"Enter the total heads: \"))\n",
        "legs = int(input(\"Enter the total legs: \"))\n",
        "\n",
        "dogs = int((legs - 2 * heads)/2)\n",
        "chicken = heads - dogs\n",
        "\n",
        "print(f\"There are a total of {dogs} dogs and {chicken} chickens\")"
      ],
      "metadata": {
        "id": "XSBvJoA4tXaG",
        "outputId": "c8f86613-55b2-4157-e213-83e97b7898b8",
        "colab": {
          "base_uri": "https://localhost:8080/"
        }
      },
      "execution_count": 17,
      "outputs": [
        {
          "output_type": "stream",
          "name": "stdout",
          "text": [
            "Number of dogs and chickens from total heads and legs calculation\n",
            "Enter the total heads: 4\n",
            "Enter the total legs: 12\n",
            "There are a total of 2 dogs and 2 chickens\n"
          ]
        }
      ]
    },
    {
      "cell_type": "markdown",
      "source": [
        "12### Q7:- Write a program to find the sum of squares of first n natural numbers where n will be provided by the user."
      ],
      "metadata": {
        "id": "gJ7C5kZYt4BP"
      }
    },
    {
      "cell_type": "code",
      "source": [
        "# Write your code here\n",
        "print(\"The sum of squares of first n natural numbers\")\n",
        "\n",
        "n = int(input(\"Enter the number: \"))\n",
        "\n",
        "sum_of_squares = n * (n+1) * (2*n+1)/6\n",
        "\n",
        "print(f\"The sum of squares of first {n} natural numbers is: {sum_of_squares}\")"
      ],
      "metadata": {
        "id": "_tHsmEHzt2nX",
        "outputId": "6d7b2746-f719-4047-946c-d1da2873f05f",
        "colab": {
          "base_uri": "https://localhost:8080/"
        }
      },
      "execution_count": 18,
      "outputs": [
        {
          "output_type": "stream",
          "name": "stdout",
          "text": [
            "The sum of squares of first n natural numbers\n",
            "Enter the number: 5\n",
            "The sum of squares of first 5 natural numbers is: 55.0\n"
          ]
        }
      ]
    },
    {
      "cell_type": "markdown",
      "source": [
        "### Q8:- Given the first 2 terms of an Arithmetic Series.Find the Nth term of the series. Assume all inputs are provided by the user."
      ],
      "metadata": {
        "id": "FHrMM7g-yG1h"
      }
    },
    {
      "cell_type": "code",
      "source": [
        "# Write your code here\n",
        "print(\"Finding Nth term of the Arithmetic series\")\n",
        "\n",
        "first_number = int(input(\"Enter the first number: \"))\n",
        "second_number = int(input(\"Enter the second number: \"))\n",
        "\n",
        "difference = second_number - first_number\n",
        "\n",
        "nth_term = int(input(\"Enter the Nth number: \"))\n",
        "\n",
        "nth_number = first_number + (nth_term - 1) * difference\n",
        "\n",
        "print(f\"The Nth term of an Arithmetic series with numbers starting at {first_number} and {second_number} is {nth_number}\")\n"
      ],
      "metadata": {
        "id": "go4_kmZmyVSx",
        "colab": {
          "base_uri": "https://localhost:8080/"
        },
        "outputId": "a5383083-6574-4ce0-a5e7-3d7a662c06b7"
      },
      "execution_count": 19,
      "outputs": [
        {
          "output_type": "stream",
          "name": "stdout",
          "text": [
            "Finding Nth term of the Arithmetic series\n",
            "Enter the first number: 2\n",
            "Enter the second number: 7\n",
            "Enter the Nth number: 3\n",
            "The Nth term of an Arithmetic series with numbers starting at 2 and 7 is 12\n"
          ]
        }
      ]
    },
    {
      "cell_type": "markdown",
      "source": [
        "### Q9:- Given 2 fractions, find the sum of those 2 fractions.Take the numerator and denominator values of the fractions from the user."
      ],
      "metadata": {
        "id": "QgyRX_es1oum"
      }
    },
    {
      "cell_type": "code",
      "source": [
        "# Write your code here\n",
        "print(\"Define the first fraction\")\n",
        "num_1 = float(input(\"Enter the numerator of first fraction: \"))\n",
        "den_1 = float(input(\"Enter the denominator of first fraction: \"))\n",
        "\n",
        "first_number = num_1/den_1\n",
        "\n",
        "num_2 = float(input(\"Enter the numerator of second fraction: \"))\n",
        "den_2 = float(input(\"Enter the denominator of second fraction: \"))\n",
        "\n",
        "second_number = num_2/den_2\n",
        "\n",
        "sum_of_fraction = round(first_number + second_number,3)\n",
        "\n",
        "print(f\"The sum of fractions are: {sum_of_fraction}\")"
      ],
      "metadata": {
        "id": "X05xqFS1yW16",
        "outputId": "c744d7cd-b2e8-47d8-e593-805b61d6faa1",
        "colab": {
          "base_uri": "https://localhost:8080/"
        }
      },
      "execution_count": 20,
      "outputs": [
        {
          "output_type": "stream",
          "name": "stdout",
          "text": [
            "Define the first fraction\n",
            "Enter the numerator of first fraction: 0\n",
            "Enter the denominator of first fraction: 5\n",
            "Enter the numerator of second fraction: 1\n",
            "Enter the denominator of second fraction: 5\n",
            "The sum of fractions are: 0.2\n"
          ]
        }
      ]
    },
    {
      "cell_type": "markdown",
      "source": [
        "### Q10:- Given the height, width and breadth of a milk tank, you have to find out how many glasses of milk can be obtained? Assume all the inputs are provided by the user.\n",
        "\n",
        "\n",
        "\n",
        "Input:<br>\n",
        "Dimensions of the milk tank<br>\n",
        "H = 20cm, L = 20cm, B = 20cm\n",
        "<br><br>\n",
        "Dimensions of the glass<br>\n",
        "h = 3cm, r = 1cm"
      ],
      "metadata": {
        "id": "eaql38ln13u7"
      }
    },
    {
      "cell_type": "code",
      "source": [
        "# Write your code here\n",
        "print(\"Specify the dimension of the milk tank\")\n",
        "height = float(input(\"Enter the height of the tank (cms.): \"))\n",
        "length = float(input(\"Enter the length of the tank (cms.): \"))\n",
        "breadth = float(input(\"Enter the breadth of the tank (cms.): \"))\n",
        "\n",
        "volume_milk_tank = height * length * breadth\n",
        "\n",
        "print(\"Specify the dimension of the glass\")\n",
        "height_g = float(input(\"Enter the height of the glass (cms.): \"))\n",
        "radius_g = float(input(\"Enter the radius of the glass (cms.): \"))\n",
        "\n",
        "volume_glass = (22/7) * height_g * (radius_g**2)\n",
        "\n",
        "no_of_glasses = round(volume_milk_tank/volume_glass)\n",
        "\n",
        "print(f\"Glasses that can be filled with milk from milk tank: {no_of_glasses}\")"
      ],
      "metadata": {
        "id": "FePZqno74eWv",
        "outputId": "4c7de319-49ab-4afa-db76-e7878dda224f",
        "colab": {
          "base_uri": "https://localhost:8080/"
        }
      },
      "execution_count": 21,
      "outputs": [
        {
          "output_type": "stream",
          "name": "stdout",
          "text": [
            "Specify the dimension of the milk tank\n",
            "Enter the height of the tank (cms.): 20\n",
            "Enter the length of the tank (cms.): 20\n",
            "Enter the breadth of the tank (cms.): 20\n",
            "Specify the dimension of the glass\n",
            "Enter the height of the glass (cms.): 3\n",
            "Enter the radius of the glass (cms.): 1\n",
            "Glasses that can be filled with milk from milk tank: 848\n"
          ]
        }
      ]
    },
    {
      "cell_type": "code",
      "source": [],
      "metadata": {
        "id": "B4C4f6VOHSam"
      },
      "execution_count": null,
      "outputs": []
    }
  ]
}