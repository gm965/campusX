{
 "cells": [
  {
   "cell_type": "markdown",
   "metadata": {
    "id": "w6RlOAXV2PWh"
   },
   "source": [
    "### `Problem 1`: Write a program that will give you in hand monthly salary after deduction on CTC - HRA(10%), DA(5%), PF(3%) and taxes deduction as below:\n",
    "\n",
    "> Salary(Lakhs) : Tax(%)\n",
    "\n",
    "*   Below 5 : 0%\n",
    "*   5-10 : 10%\n",
    "*   10-20 : 20%\n",
    "*   above 20 : 30%"
   ]
  },
  {
   "cell_type": "code",
   "execution_count": 22,
   "metadata": {
    "id": "7tMHvKYO2etI"
   },
   "outputs": [
    {
     "name": "stdout",
     "output_type": "stream",
     "text": [
      "In-hand monthly salary calculator\n",
      "Please enter your annual gross salary (Lakhs): \n",
      "2500000\n",
      "The Annual CTC: 2500000 and after statuatory deductions the net salary:\n",
      "2050000.0\n",
      "The total tax payable is: 265000.0\n",
      "Salary in hand after all deductions (Statuatory and Taxes): 148750\n"
     ]
    }
   ],
   "source": [
    "# Write code here (Done)\n",
    "print(\"In-hand monthly salary calculator\")\n",
    "\n",
    "gross_salary = int(input(\"Please enter your annual gross salary (Lakhs): \\n\"))\n",
    "\n",
    "hra = gross_salary * 0.10\n",
    "da = gross_salary * 0.05\n",
    "pf = gross_salary * 0.03\n",
    "\n",
    "deductions = hra+da+pf\n",
    "\n",
    "taxable_salary = gross_salary - deductions\n",
    "\n",
    "print(f\"The Annual CTC: {gross_salary} and after statuatory deductions the net salary:\\n{taxable_salary}\")\n",
    "\n",
    "tax_payable = 0\n",
    "\n",
    "if taxable_salary < 500000:\n",
    "    tax_payable = 0\n",
    "elif taxable_salary >= 500000 and taxable_salary < 1000000:\n",
    "    tax_payable = (taxable_salary-500000) * 0.10\n",
    "elif taxable_salary >= 1000000 and taxable_salary < 2000000:\n",
    "    tax_payable = 500000 * 0.1 + (taxable_salary - 1000000) * 0.20\n",
    "elif taxable_salary >= 2000000:\n",
    "    tax_payable = 500000 * 0.1 + 1000000 * 0.20 + (taxable_salary - 2000000) * 0.30\n",
    "    \n",
    "print(f\"The total tax payable is: {tax_payable}\")\n",
    "    \n",
    "inhand_salary =  taxable_salary -  tax_payable\n",
    "\n",
    "inhand_monthly_salary = round(inhand_salary/12)\n",
    "\n",
    "print(f\"Salary in hand after all deductions (Statuatory and Taxes): {inhand_monthly_salary}\")   \n"
   ]
  },
  {
   "cell_type": "markdown",
   "metadata": {
    "id": "tYzCGqwl2hfN"
   },
   "source": [
    "### `Problem 2`: Write a program that take a user input of three angles and will find out whether it can form a triangle or not."
   ]
  },
  {
   "cell_type": "code",
   "execution_count": 26,
   "metadata": {
    "id": "FYEqln-I2kxV"
   },
   "outputs": [
    {
     "name": "stdout",
     "output_type": "stream",
     "text": [
      "Check possibility of a triange given three angles\n",
      "Enter the angle 1: 120\n",
      "Enter the angle 2: 60\n",
      "Enter the angle 3: 0\n",
      "Triangle can be formed\n"
     ]
    }
   ],
   "source": [
    "# Write code here (Done)\n",
    "print(\"Check possibility of a triange given three angles\")\n",
    "\n",
    "theta1 = int(input(\"Enter the angle 1: \"))\n",
    "theta2 = int(input(\"Enter the angle 2: \"))\n",
    "theta3 = int(input(\"Enter the angle 3: \"))\n",
    "\n",
    "sum_thetas = theta1 + theta2 + theta3\n",
    "\n",
    "if sum_thetas == 180:\n",
    "    print(\"Triangle can be formed\")\n",
    "else:\n",
    "    print(\"Triangle can't be formed\")\n"
   ]
  },
  {
   "cell_type": "markdown",
   "metadata": {
    "id": "5vEpPh8C2pE4"
   },
   "source": [
    "### `Problem 3`: Write a program that will take user input of cost price and selling price and determines whether its a loss or a profit."
   ]
  },
  {
   "cell_type": "code",
   "execution_count": 45,
   "metadata": {
    "id": "jDwBXlkO2sfl"
   },
   "outputs": [
    {
     "name": "stdout",
     "output_type": "stream",
     "text": [
      "Profit or Loss calculator\n",
      "Please enter the cost price: 100\n",
      "Please enter the selling price: 80\n",
      "It's a loss, a loss of 20 per unit will be incurred\n"
     ]
    }
   ],
   "source": [
    "# Write code here (Done)\n",
    "print(\"Profit or Loss calculator\")\n",
    "\n",
    "cost_price = int(input(\"Please enter the cost price: \"))\n",
    "sell_price = int(input(\"Please enter the selling price: \"))\n",
    "\n",
    "diff = sell_price - cost_price\n",
    "\n",
    "if diff < 0:\n",
    "    diff = -diff\n",
    "\n",
    "\n",
    "if cost_price > sell_price:\n",
    "    print(f\"It's a loss, a loss of {diff} per unit will be incurred\")\n",
    "elif cost_price < sell_price:\n",
    "    print(f\"It's a profit, a profit of {diff} per unit\")\n",
    "else:\n",
    "    print(\"No profit - no loss\")\n",
    "        "
   ]
  },
  {
   "cell_type": "markdown",
   "metadata": {
    "id": "J_FG_cJW2ugT"
   },
   "source": [
    "### `Problem 4`: Write a menu-driven program - \n",
    "1. cm to ft \n",
    "2. km to miles \n",
    "3. USD to INR \n",
    "4. exit"
   ]
  },
  {
   "cell_type": "code",
   "execution_count": 104,
   "metadata": {
    "id": "yBHhaCGQ2zpD"
   },
   "outputs": [
    {
     "name": "stdout",
     "output_type": "stream",
     "text": [
      "\n",
      "1. Enter 1 for cm to ft conversion\n",
      "2. Enter 2 for km to miles conversion\n",
      "3. Enter 3 for USD to INR conversion\n",
      "4. Enter 4 or Exit to Exit\n",
      "3\n",
      "USD to INR conversion\n",
      "------------------------\n",
      "Please enter the USDs - 100\n",
      "The 100.0 USD is equivalent to 7858.0 INR.\n"
     ]
    }
   ],
   "source": [
    "# Write code here (Done)\n",
    "\n",
    "menu = input(\"\"\"\n",
    "1. Enter 1 for cm to ft conversion\n",
    "2. Enter 2 for km to miles conversion\n",
    "3. Enter 3 for USD to INR conversion\n",
    "4. Enter 4 or Exit to Exit\n",
    "\"\"\")\n",
    "\n",
    "if menu == '1':\n",
    "    print(\"cm to ft conversion\")\n",
    "    print(\"------------------------\")\n",
    "    cm = float(input(\"Please enter the length in cms. - \"))\n",
    "    ft = round(cm/2.54,2)\n",
    "    print(f\"The {cm} cms is equivalent to {ft} fts.\")\n",
    "elif menu == '2':\n",
    "    print(\"km to miles conversion\")\n",
    "    print(\"------------------------\")\n",
    "    kms = float(input(\"Please enter the distance in kms. - \"))\n",
    "    miles = round(kms/1.54,2)\n",
    "    print(f\"The {kms} kms is equivalent to {miles} miles.\")\n",
    "elif menu == '3':\n",
    "    print(\"USD to INR conversion\")\n",
    "    print(\"------------------------\")\n",
    "    usds = float(input(\"Please enter the USDs - \"))\n",
    "    inrs = round(usds*78.58,2)\n",
    "    print(f\"The {usds} USD is equivalent to {inrs} INR.\")\n",
    "else:\n",
    "    print(\"Thank you very much for using this application\")\n",
    "    \n"
   ]
  },
  {
   "cell_type": "markdown",
   "metadata": {
    "id": "LJJ30_Yw27ZU"
   },
   "source": [
    "### `Problem 5` - Exercise 12: Display Fibonacci series up to 10 terms.\n",
    "\n",
    "*Note: The Fibonacci Sequence is a series of numbers. The next number is found by adding up the two numbers before it. The first two numbers are 0 and 1. For example, 0, 1, 1, 2, 3, 5, 8, 13, 21. The next number in this series above is 13+21 = 34*"
   ]
  },
  {
   "cell_type": "code",
   "execution_count": 40,
   "metadata": {
    "id": "ae_1rpe52-5R"
   },
   "outputs": [
    {
     "name": "stdout",
     "output_type": "stream",
     "text": [
      "Fibonacci series\n",
      "Please enter the numbers for which Fibonacci sequence has to be generated: 9\n",
      "[0, 1, 1, 2, 3, 5, 8, 13, 21]\n"
     ]
    }
   ],
   "source": [
    "# Write code here (Done)\n",
    "print(\"Fibonacci series\")\n",
    "\n",
    "terms = int(input(\"Please enter the numbers for which Fibonacci sequence has to be generated: \"))\n",
    "\n",
    "# Method 1:\n",
    "series = [0,1]\n",
    "\n",
    "#val = 0\n",
    "\n",
    "for i in range(terms - 2):\n",
    "    val = series[-1] + series[-2]\n",
    "    series.append(val)\n",
    "    \n",
    "print(series) \n"
   ]
  },
  {
   "cell_type": "code",
   "execution_count": 7,
   "metadata": {},
   "outputs": [
    {
     "name": "stdout",
     "output_type": "stream",
     "text": [
      "Fibonacci series\n",
      "Please enter the numbers for which Fibonacci sequence has to be generated: 9\n",
      "0,1,1,2,3,5,8,13,21\n"
     ]
    }
   ],
   "source": [
    "# Method 2:\n",
    "\n",
    "print(\"Fibonacci series\")\n",
    "\n",
    "terms = int(input(\"Please enter the numbers for which Fibonacci sequence has to be generated: \"))\n",
    "\n",
    "series = '0,1,'\n",
    "\n",
    "sum_p = 1\n",
    "sum_pp = 0\n",
    "sum_c = 0\n",
    "\n",
    "for i in range (1, terms-1):\n",
    "    sum_c = sum_p + sum_pp\n",
    "    series = series + str(sum_c) + \",\"\n",
    "    sum_pp = sum_p\n",
    "    sum_p = sum_c\n",
    "    \n",
    "    #i +=1\n",
    "    \n",
    "\n",
    "print(series[:-1])"
   ]
  },
  {
   "cell_type": "markdown",
   "metadata": {
    "id": "pk_I_S4m3PT5"
   },
   "source": [
    "### `Problem 6` - Find the factorial of a given number.\n",
    "\n",
    "Write a program to use the loop to find the factorial of a given number.\n",
    "\n",
    "The factorial (symbol: `!`) means to multiply all whole numbers from the chosen number down to 1.\n",
    "\n",
    "For example: calculate the factorial of 5\n",
    "\n",
    "```bash\n",
    "5! = 5 × 4 × 3 × 2 × 1 = 120\n",
    "```\n",
    "\n",
    "Output: \n",
    "\n",
    "```bash\n",
    "120\n",
    "```"
   ]
  },
  {
   "cell_type": "code",
   "execution_count": 36,
   "metadata": {
    "id": "lzXxHegx3Rkc"
   },
   "outputs": [
    {
     "name": "stdout",
     "output_type": "stream",
     "text": [
      "The factorial of a given number\n",
      "Please enter the number: 10\n",
      "The factorial of 10 is: 3628800\n"
     ]
    }
   ],
   "source": [
    "# Write code here (Done)\n",
    "print(\"The factorial of a given number\")\n",
    "\n",
    "number = int(input(\"Please enter the number: \"))\n",
    "\n",
    "fact = 1\n",
    "\n",
    "for i in range(1,number+1):\n",
    "    fact *= i\n",
    "    \n",
    "print(f\"The factorial of {number} is: {fact}\")\n"
   ]
  },
  {
   "cell_type": "markdown",
   "metadata": {
    "id": "-17IOi-g3UpU"
   },
   "source": [
    "### `Problem 7` - Reverse a given integer number.\n",
    "\n",
    "Example:\n",
    "\n",
    "`Input:`\n",
    "\n",
    "```bash\n",
    "76542\n",
    "```\n",
    "\n",
    "`Output:`\n",
    "\n",
    "```bash\n",
    "24567\n",
    "```"
   ]
  },
  {
   "cell_type": "code",
   "execution_count": 103,
   "metadata": {
    "id": "wJwLpKCr3aVA"
   },
   "outputs": [
    {
     "name": "stdout",
     "output_type": "stream",
     "text": [
      "Please enter the number1234567\n",
      "<class 'int'>\n",
      "The reverse of the number 1234567 is 7654321\n"
     ]
    }
   ],
   "source": [
    "# Write code here (Done)\n",
    "\n",
    "original_number = int(input(\"Please enter the number\"))\n",
    "\n",
    "len_of_number = len(str(original_number))\n",
    "\n",
    "print(type(len_of_number))\n",
    "\n",
    "rev_num = 0\n",
    "\n",
    "for i in range(1, len_of_number+1):\n",
    "    #print(\"Iteration number: \", i)\n",
    "    increment =  ((original_number%(10**i) - original_number%(10**(i-1)))/(10**(i-1)))* (10**(len_of_number - i))\n",
    "    #print(increment)\n",
    "    rev_num += increment\n",
    "\n",
    "print(f\"The reverse of the number {original_number} is {int(rev_num)}\")    \n",
    "    \n",
    "\n"
   ]
  },
  {
   "cell_type": "markdown",
   "metadata": {
    "id": "-t8PJQaY3sHf"
   },
   "source": [
    "### `Problem 8`: Take a user input as integer N. Find out the sum from 1 to N. If any number if divisible by 5, then skip that number. And if the sum is greater than 300, don't need to calculate the sum further more. Print the final result. And don't use for loop to solve this problem.\n",
    "\n",
    "**Example 1:**\n",
    "\n",
    "`Input:`\n",
    "\n",
    "```bash\n",
    "30\n",
    "```\n",
    "\n",
    "`Output:`\n",
    "\n",
    "```bash\n",
    "276\n",
    "```"
   ]
  },
  {
   "cell_type": "code",
   "execution_count": 82,
   "metadata": {
    "id": "GZB6mGMP3ujT"
   },
   "outputs": [
    {
     "name": "stdout",
     "output_type": "stream",
     "text": [
      "The sum from 1 to N number\n",
      "Please enter the number: 30\n",
      "The sum of 30 from 1 to 30 is: 276\n"
     ]
    }
   ],
   "source": [
    "# Write code here (Done)\n",
    "print(\"The sum from 1 to N number\")\n",
    "\n",
    "number = int(input(\"Please enter the number: \"))\n",
    "\n",
    "i = 1\n",
    "sum = 0\n",
    "\n",
    "while i < number and sum < 300:\n",
    "    if i%5 == 0:\n",
    "        sum = sum\n",
    "    else:\n",
    "        sum += i\n",
    "    if sum > 300:\n",
    "        sum -= i\n",
    "        break\n",
    "    \n",
    "    i+=1\n",
    "    \n",
    "print(f\"The sum of {number} from 1 to {number} is: {sum}\")    "
   ]
  },
  {
   "cell_type": "markdown",
   "metadata": {
    "id": "Q7ggImeA3xm4"
   },
   "source": [
    "### `Problem 9`: Write a program that keeps on accepting a number from the user until the user enters Zero. Display the sum and average of all the numbers."
   ]
  },
  {
   "cell_type": "code",
   "execution_count": 112,
   "metadata": {
    "id": "t_YDSZDe4Kdo"
   },
   "outputs": [
    {
     "name": "stdout",
     "output_type": "stream",
     "text": [
      "Enter any number to continue and zero to exit: 1\n",
      "Enter any number to continue and zero to exit: 2\n",
      "Enter any number to continue and zero to exit: 3\n",
      "Enter any number to continue and zero to exit: 4\n",
      "Enter any number to continue and zero to exit: 5\n",
      "Enter any number to continue and zero to exit: 0\n",
      "The average is 3.0 and the sum is 15\n"
     ]
    }
   ],
   "source": [
    "# Write code here (Done)\n",
    "# Method 1:\n",
    "input_no = int(input(\"Enter any number to continue and zero to exit: \"))\n",
    "\n",
    "sum_nos = 0\n",
    "count_nos = 0\n",
    "\n",
    "while input_no > 0:\n",
    "    sum_nos += input_no\n",
    "    count_nos += 1\n",
    "    \n",
    "    input_no = int(input(\"Enter any number to continue and zero to exit: \"))\n",
    "    \n",
    "print(f\"The average is {sum_nos/count_nos} and the sum is {sum_nos}\")    \n",
    "    \n",
    "\n"
   ]
  },
  {
   "cell_type": "code",
   "execution_count": 111,
   "metadata": {},
   "outputs": [
    {
     "name": "stdout",
     "output_type": "stream",
     "text": [
      "Enter any number to continue and zero to exit: 1\n",
      "Enter any number to continue and zero to exit: 2\n",
      "Enter any number to continue and zero to exit: 3\n",
      "Enter any number to continue and zero to exit: 4\n",
      "Enter any number to continue and zero to exit: 5\n",
      "Enter any number to continue and zero to exit: 0\n",
      "5\n",
      "The average is 3.0 and the sum is 15\n"
     ]
    }
   ],
   "source": [
    "# Method 2 (Done)\n",
    "sum_nos = 0\n",
    "count_nos = 0\n",
    "input_no = 1\n",
    "\n",
    "while input_no != 0:\n",
    "    input_no = int(input(\"Enter any number to continue and zero to exit: \"))\n",
    "    sum_nos += input_no\n",
    "    if input_no ==0:\n",
    "        count_nos\n",
    "    else:\n",
    "        count_nos += 1\n",
    "\n",
    "print(f\"The average is {sum_nos/count_nos} and the sum is {sum_nos}\")    \n",
    "    \n",
    "   \n"
   ]
  },
  {
   "cell_type": "markdown",
   "metadata": {
    "id": "6EhvEMvm4R7s"
   },
   "source": [
    "### `Problem 10`: Write a program which will find all such numbers which are divisible by 7 but are not a multiple of 5, between 2000 and 3200 (both included). The numbers obtained should be printed in a comma-separated sequence on a single line."
   ]
  },
  {
   "cell_type": "code",
   "execution_count": 120,
   "metadata": {
    "id": "d6RgP1B34T6c"
   },
   "outputs": [
    {
     "name": "stdout",
     "output_type": "stream",
     "text": [
      "2002,2009,2016,2023,2037,2044,2051,2058,2072,2079,2086,2093,2107,2114,2121,2128,2142,2149,2156,2163,2177,2184,2191,2198,2212,2219,2226,2233,2247,2254,2261,2268,2282,2289,2296,2303,2317,2324,2331,2338,2352,2359,2366,2373,2387,2394,2401,2408,2422,2429,2436,2443,2457,2464,2471,2478,2492,2499,2506,2513,2527,2534,2541,2548,2562,2569,2576,2583,2597,2604,2611,2618,2632,2639,2646,2653,2667,2674,2681,2688,2702,2709,2716,2723,2737,2744,2751,2758,2772,2779,2786,2793,2807,2814,2821,2828,2842,2849,2856,2863,2877,2884,2891,2898,2912,2919,2926,2933,2947,2954,2961,2968,2982,2989,2996,3003,3017,3024,3031,3038,3052,3059,3066,3073,3087,3094,3101,3108,3122,3129,3136,3143,3157,3164,3171,3178,3192,3199\n"
     ]
    }
   ],
   "source": [
    "# Write code here (Done)\n",
    "\n",
    "st = ''\n",
    "\n",
    "for i in range(2000,3200+1):\n",
    "    if i%7 == 0 and i%5 != 0:\n",
    "        st += str(i) + \",\"\n",
    "        \n",
    "print(st[:-1])        "
   ]
  },
  {
   "cell_type": "code",
   "execution_count": 119,
   "metadata": {},
   "outputs": [
    {
     "name": "stdout",
     "output_type": "stream",
     "text": [
      "2002,2009,2016,2023,2037,2044,2051,2058,2072,2079,2086,2093,2107,2114,2121,2128,2142,2149,2156,2163,2177,2184,2191,2198,2212,2219,2226,2233,2247,2254,2261,2268,2282,2289,2296,2303,2317,2324,2331,2338,2352,2359,2366,2373,2387,2394,2401,2408,2422,2429,2436,2443,2457,2464,2471,2478,2492,2499,2506,2513,2527,2534,2541,2548,2562,2569,2576,2583,2597,2604,2611,2618,2632,2639,2646,2653,2667,2674,2681,2688,2702,2709,2716,2723,2737,2744,2751,2758,2772,2779,2786,2793,2807,2814,2821,2828,2842,2849,2856,2863,2877,2884,2891,2898,2912,2919,2926,2933,2947,2954,2961,2968,2982,2989,2996,3003,3017,3024,3031,3038,3052,3059,3066,3073,3087,3094,3101,3108,3122,3129,3136,3143,3157,3164,3171,3178,3192,3199\n"
     ]
    }
   ],
   "source": [
    "#Method 2 (Done)\n",
    "i = 2000\n",
    "st = ''\n",
    "\n",
    "while i <= 3200:\n",
    "    if i%7 == 0 and i%5 != 0:\n",
    "        st += str(i) + \",\"\n",
    "    \n",
    "    i += 1\n",
    "\n",
    "print(st[:-1])        "
   ]
  },
  {
   "cell_type": "markdown",
   "metadata": {
    "id": "tYvmRR-G4Vp4"
   },
   "source": [
    "### `Problem 11`: Write a program, which will find all such numbers between 1000 and 3000 (both included) such that each digit of the number is an even number. The numbers obtained should be printed in a space-separated sequence on a single line.\n",
    "\n"
   ]
  },
  {
   "cell_type": "code",
   "execution_count": 126,
   "metadata": {
    "id": "k6Gs1kIf4k19"
   },
   "outputs": [
    {
     "name": "stdout",
     "output_type": "stream",
     "text": [
      "2000,2002,2004,2006,2008,2020,2022,2024,2026,2028,2040,2042,2044,2046,2048,2060,2062,2064,2066,2068,2080,2082,2084,2086,2088,2200,2202,2204,2206,2208,2220,2222,2224,2226,2228,2240,2242,2244,2246,2248,2260,2262,2264,2266,2268,2280,2282,2284,2286,2288,2400,2402,2404,2406,2408,2420,2422,2424,2426,2428,2440,2442,2444,2446,2448,2460,2462,2464,2466,2468,2480,2482,2484,2486,2488,2600,2602,2604,2606,2608,2620,2622,2624,2626,2628,2640,2642,2644,2646,2648,2660,2662,2664,2666,2668,2680,2682,2684,2686,2688,2800,2802,2804,2806,2808,2820,2822,2824,2826,2828,2840,2842,2844,2846,2848,2860,2862,2864,2866,2868,2880,2882,2884,2886,2888\n"
     ]
    }
   ],
   "source": [
    "# Write code here (Done)\n",
    "\n",
    "i = 1000\n",
    "st = ''\n",
    "\n",
    "while i <= 3000:\n",
    "    first_digit = i//1000\n",
    "    second_digit = (i - first_digit * 1000)//100\n",
    "    third_digit = (i - first_digit * 1000 - second_digit * 100)//10\n",
    "    last_digit = (i - first_digit * 1000 - second_digit * 100 - third_digit * 10)\n",
    "    if first_digit%2 == 0 and second_digit%2 == 0 and third_digit%2 == 0 and last_digit%2 == 0 :\n",
    "        st += str(i) + \",\"\n",
    "    \n",
    "    i += 1\n",
    "\n",
    "print(st[:-1]) "
   ]
  },
  {
   "cell_type": "markdown",
   "metadata": {
    "id": "GV18IINT4mf5"
   },
   "source": [
    "### `Problem 12`: A robot moves in a plane starting from the original point (0,0). The robot can move toward UP, DOWN, LEFT and RIGHT with a given steps. \n",
    "The trace of robot movement is shown as the following:\n",
    "```\n",
    "UP 5\n",
    "DOWN 3\n",
    "LEFT 3\n",
    "RIGHT 2\n",
    "!\n",
    "```\n",
    "> The numbers after the direction are steps. \n",
    "\n",
    "> `!` means robot stop there.\n",
    "\n",
    "**Please write a program to compute the distance from current position after a sequence of movement and original point.** \n",
    "\n",
    "*If the distance is a float, then just print the nearest integer.*\n",
    "\n",
    "Example:\n",
    "\n",
    "`Input`:\n",
    "```\n",
    "UP 5\n",
    "DOWN 3\n",
    "LEFT 3\n",
    "RIGHT 2\n",
    "!\n",
    "```\n",
    "`Output`:\n",
    "```\n",
    "2\n",
    "```"
   ]
  },
  {
   "cell_type": "code",
   "execution_count": 82,
   "metadata": {
    "id": "6UNMC2aR4w5x"
   },
   "outputs": [
    {
     "name": "stdout",
     "output_type": "stream",
     "text": [
      "Please enter UP, DOWN, LEFT, RIGHT to move or ! to exit: UP\n",
      "UP\n",
      "Enter while loop\n",
      "Enter if else loop\n",
      "Please enter UP, DOWN, LEFT, RIGHT to move or ! to exit: DOWN\n",
      "Enter while loop\n",
      "Enter if else loop\n",
      "Please enter UP, DOWN, LEFT, RIGHT to move or ! to exit: LEFT\n",
      "Enter while loop\n",
      "Enter if else loop\n",
      "Please enter UP, DOWN, LEFT, RIGHT to move or ! to exit: RIGHT\n",
      "Enter while loop\n",
      "Enter if else loop\n",
      "Please enter UP, DOWN, LEFT, RIGHT to move or ! to exit: !\n",
      "Old coordinates: (0, 0) and the New coordinates: (-1,2) and distance between them: 2\n"
     ]
    }
   ],
   "source": [
    "# Write code here (Done)\n",
    "\n",
    "move = input(\"Please enter UP, DOWN, LEFT, RIGHT to move or ! to exit: \") \n",
    "\n",
    "x_1 = 0\n",
    "y_1 = 0\n",
    "\n",
    "x_new = 0\n",
    "y_new = 0\n",
    "print(move)\n",
    "\n",
    "while move != \"!\":\n",
    "    print(\"Enter while loop\")\n",
    "    if move == '!':\n",
    "        print(\"Enter if loop 1\")\n",
    "        break\n",
    "    else:\n",
    "        print(\"Enter if else loop\")\n",
    "        if move == \"UP\":\n",
    "            y_new += 5\n",
    "            x_new += 0\n",
    "        elif move == \"DOWN\":\n",
    "            y_new -= 3\n",
    "            x_new += 0\n",
    "        elif move == \"LEFT\":\n",
    "            x_new -= 3\n",
    "            y_new += 0\n",
    "        elif move == \"RIGHT\":\n",
    "            x_new += 2\n",
    "            y_new += 0\n",
    "        \n",
    "        move = input(\"Please enter UP, DOWN, LEFT, RIGHT to move or ! to exit: \")\n",
    "\n",
    "dist = round(((x_new - x_1)**2 + (y_new - y_1)**2)**0.5)\n",
    "print(f\"Old coordinates: ({x_1}, {y_1}) and the New coordinates: ({x_new},{y_new}) and distance between them: {dist}\")        "
   ]
  },
  {
   "cell_type": "markdown",
   "metadata": {
    "id": "3fsAIAhK5GYY"
   },
   "source": [
    "### `Problem 13`:Write a program to print whether a given number is a prime number or not"
   ]
  },
  {
   "cell_type": "code",
   "execution_count": 40,
   "metadata": {
    "id": "j6y91lxy5LZs"
   },
   "outputs": [
    {
     "name": "stdout",
     "output_type": "stream",
     "text": [
      "Check whether a given number is prime or not\n",
      "\n",
      "Please enter a number37\n",
      "It's a prime number\n"
     ]
    }
   ],
   "source": [
    "# Write code here (Done)\n",
    "print(\"Check whether a given number is prime or not\\n\")\n",
    "\n",
    "number = int(input(\"Please enter a number\"))\n",
    "\n",
    "prime_ind = False\n",
    "\n",
    "if number == 2 or number == 3:\n",
    "    print(\"It's a prime number\")\n",
    "else:\n",
    "    for i in range (2, int(number**0.5)+1):\n",
    "        if number%i == 0:\n",
    "            prime_ind = False\n",
    "            break\n",
    "        else:\n",
    "            prime_ind = True\n",
    "        \n",
    "if prime_ind == True:\n",
    "    print(\"It's a prime number\")\n",
    "else:\n",
    "    print(\"It's not a prime number\")\n",
    "\n",
    "    \n",
    "                "
   ]
  },
  {
   "cell_type": "markdown",
   "metadata": {
    "id": "asAbmbK-5NHv"
   },
   "source": [
    "### `Problem 14`:Print all the Armstrong numbers in a given range.\n",
    "Range will be provided by the user<br>\n",
    "Armstrong number is a number that is equal to the sum of cubes of its digits. For example 0, 1, 153, 370, 371 and 407 are the Armstrong numbers."
   ]
  },
  {
   "cell_type": "code",
   "execution_count": 71,
   "metadata": {
    "id": "PZuI67pm5jCT"
   },
   "outputs": [
    {
     "name": "stdout",
     "output_type": "stream",
     "text": [
      "Armstrong numbers in a given range\n",
      "Starting number of a given range: 0\n",
      "Ending number of a given range: 1000\n",
      "The Armstrong nos within 0 and 1000 are:  0,1,153,370,371,407\n"
     ]
    }
   ],
   "source": [
    "# Write code here (Done)\n",
    "print(\"Armstrong numbers in a given range\")\n",
    "\n",
    "start = int(input(\"Starting number of a given range: \"))\n",
    "end = int(input(\"Ending number of a given range: \"))\n",
    "\n",
    "stri = ''\n",
    "\n",
    "for i in range(start, end):\n",
    "    num = i\n",
    "    sum_d = 0\n",
    "    #print(\"\\n\", num)\n",
    "    \n",
    "    while i//10 > 0:\n",
    "        num_d = i%10\n",
    "        num_d_c = num_d**3\n",
    "        sum_d += num_d_c\n",
    "        #print(sum_d)\n",
    "        i = i//10\n",
    "    else:\n",
    "        num_d = i%10\n",
    "        num_d_c = num_d**3\n",
    "        sum_d += num_d_c\n",
    "        \n",
    "        if sum_d == num:\n",
    "            stri += str(num)+\",\"\n",
    "\n",
    "stri = stri[:-1]            \n",
    "print(f\"The Armstrong nos within {start} and {end} are: \", stri)  \n",
    "\n",
    "\n",
    "    "
   ]
  },
  {
   "cell_type": "markdown",
   "metadata": {
    "id": "ClCQZMqT7gK0"
   },
   "source": [
    "### `Problem 15`:Calculate the angle between the hour hand and minute hand.\n",
    "\n",
    "Note: There can be two angles between hands; we need to print a minimum of two. Also, we need to print the floor of the final result angle. For example, if the final angle is 10.61, we need to print 10.\n",
    "\n",
    "Input:<br>\n",
    "H = 9 , M = 0<br>\n",
    "Output:<br>\n",
    "90<br>\n",
    "Explanation:<br>\n",
    "The minimum angle between hour and minute\n",
    "hand when the time is 9 is 90 degress."
   ]
  },
  {
   "cell_type": "code",
   "execution_count": 107,
   "metadata": {
    "id": "tNBTCZML7jy_"
   },
   "outputs": [
    {
     "name": "stdout",
     "output_type": "stream",
     "text": [
      "Angle calculator between hour and minute hand\n",
      "Please enter the hour hand position: 9\n",
      "Please enter the minute hand position: 20\n",
      "Hour hand:  270 90\n",
      "Minute hand:  120 240\n",
      "The angle diff: 150, 210 and the least angle is: 150\n"
     ]
    }
   ],
   "source": [
    "# Write code here (Done)\n",
    "\n",
    "hr_angle = int(360/12)\n",
    "\n",
    "min_angle = int(360/60)\n",
    "\n",
    "print(\"Angle calculator between hour and minute hand\")\n",
    "\n",
    "hr_hand = int(input(\"Please enter the hour hand position: \"))\n",
    "min_hand = int(input(\"Please enter the minute hand position: \"))\n",
    "\n",
    "clock_wise_hr_angle = hr_hand * hr_angle\n",
    "anti_clock_wise_hr_angle = 360 - clock_wise_hr_angle\n",
    "\n",
    "clock_wise_min_angle = min_hand * min_angle\n",
    "anti_clock_wise_min_angle = 360 - clock_wise_min_angle\n",
    "\n",
    "print(\"Hour hand: \", clock_wise_hr_angle, anti_clock_wise_hr_angle)\n",
    "\n",
    "print(\"Minute hand: \", clock_wise_min_angle, anti_clock_wise_min_angle)\n",
    "\n",
    "clock_wise_angle_diff = int(abs(clock_wise_hr_angle - clock_wise_min_angle))\n",
    "\n",
    "anti_clock_wise_angle_diff = 360 - clock_wise_angle_diff\n",
    "\n",
    "if clock_wise_angle_diff >= anti_clock_wise_angle_diff:\n",
    "    print(f\"The angle diff: {clock_wise_angle_diff}, {anti_clock_wise_angle_diff} and the least angle is: {anti_clock_wise_angle_diff}\")\n",
    "else:\n",
    "    print(f\"The angle diff: {clock_wise_angle_diff}, {anti_clock_wise_angle_diff} and the least angle is: {clock_wise_angle_diff}\")\n",
    "\n",
    "\n"
   ]
  },
  {
   "cell_type": "code",
   "execution_count": null,
   "metadata": {},
   "outputs": [],
   "source": []
  },
  {
   "cell_type": "markdown",
   "metadata": {
    "id": "GwacF9Co72Qc"
   },
   "source": [
    "### `Problem 16`:Given two rectangles, find if the given two rectangles overlap or not. A rectangle is denoted by providing the x and y coordinates of two points: the left top corner and the right bottom corner of the rectangle. Two rectangles sharing a side are considered overlapping. (L1 and R1 are the extreme points of the first rectangle and L2 and R2 are the extreme points of the second rectangle).\n",
    "\n",
    "Note: It may be assumed that the rectangles are parallel to the coordinate axis.\n",
    "\n",
    "<img src='https://www.geeksforgeeks.org/wp-content/uploads/rectanglesOverlap.png' width='300' height='200'>"
   ]
  },
  {
   "cell_type": "code",
   "execution_count": 139,
   "metadata": {
    "id": "6rrw_lpH78Rs"
   },
   "outputs": [
    {
     "name": "stdout",
     "output_type": "stream",
     "text": [
      "Checking the overlapping of two rectangles\n",
      "Define the two rectangles\n",
      "Define the FIRST rectangle end points L1 (X1, y1), R1 (X2, y2)\n",
      "-----------------------------------------------------------------\n",
      "Enter X1: 10\n",
      "Enter y1: 8\n",
      "Enter X2: 15\n",
      "Enter y2: 5\n",
      "Define the SECOND rectangle end points L2 (X3, y3), R2 (X4, y4)\n",
      "-----------------------------------------------------------------\n",
      "Enter X3: 18\n",
      "Enter y3: 4\n",
      "Enter X4: 21\n",
      "Enter y4: 2\n",
      "The rectangles are not overlapping\n"
     ]
    }
   ],
   "source": [
    "# Write code here (Done)\n",
    "print(\"Checking the overlapping of two rectangles\")\n",
    "\n",
    "print(\"Define the two rectangles\")\n",
    "\n",
    "print(\"Define the FIRST rectangle end points L1 (X1, y1), R1 (X2, y2)\")\n",
    "print(\"-----------------------------------------------------------------\")\n",
    "X1 = int(input(\"Enter X1: \"))\n",
    "y1 = int(input(\"Enter y1: \"))\n",
    "\n",
    "X2 = int(input(\"Enter X2: \"))\n",
    "y2 = int(input(\"Enter y2: \"))\n",
    "\n",
    "print(\"Define the SECOND rectangle end points L2 (X3, y3), R2 (X4, y4)\")\n",
    "print(\"-----------------------------------------------------------------\")\n",
    "X3 = int(input(\"Enter X3: \"))\n",
    "y3 = int(input(\"Enter y3: \"))\n",
    "\n",
    "X4 = int(input(\"Enter X4: \"))\n",
    "y4 = int(input(\"Enter y4: \"))\n",
    "\n",
    "if ((X1 < X3 <= X2) and (y2 < y3 < y1)) or ((X3 < X1 < X4) and (y4 < y1 < y3)) or ((X1 < X4 < X2) and (y2 < y3 < y1)) or ((X1 < X3 < X2) and (y2 < y4 < y1)): \n",
    "    print(\"The rectangles are overlapping\")\n",
    "else:\n",
    "    print(\"The rectangles are not overlapping\")\n"
   ]
  }
 ],
 "metadata": {
  "colab": {
   "provenance": []
  },
  "kernelspec": {
   "display_name": "Python 3 (ipykernel)",
   "language": "python",
   "name": "python3"
  },
  "language_info": {
   "codemirror_mode": {
    "name": "ipython",
    "version": 3
   },
   "file_extension": ".py",
   "mimetype": "text/x-python",
   "name": "python",
   "nbconvert_exporter": "python",
   "pygments_lexer": "ipython3",
   "version": "3.9.12"
  }
 },
 "nbformat": 4,
 "nbformat_minor": 1
}
