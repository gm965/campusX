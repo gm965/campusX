{
 "cells": [
  {
   "cell_type": "markdown",
   "metadata": {
    "id": "kLZ_vCeE0lsM"
   },
   "source": [
    "### `Problem 1:` Combine two lists index-wise(columns wise)\n",
    "\n",
    "Write a program to add two lists index-wise. Create a new list that contains the 0th index item from both the list, then the 1st index item, and so on till the last element. any leftover items will get added at the end of the new list.\n",
    "\n",
    "`Given List:`\n",
    "```\n",
    "list1 = [\"M\", \"na\", \"i\", \"Kh\"]\n",
    "list2 = [\"y\", \"me\", \"s\", \"an\"]\n",
    "```\n",
    "\n",
    "`Output:`\n",
    "```\n",
    "[['M','y'], ['na', me'], ['i', 's'], ['Kh', 'an']]\n",
    "```"
   ]
  },
  {
   "cell_type": "code",
   "execution_count": 3,
   "metadata": {
    "id": "cDO3Yv6p0nnG"
   },
   "outputs": [
    {
     "name": "stdout",
     "output_type": "stream",
     "text": [
      "New list is: [['M', 'y'], ['na', 'me'], ['i', 's'], ['Kh', 'an']]\n"
     ]
    }
   ],
   "source": [
    "# Write code here (Done)\n",
    "\n",
    "list1 = [\"M\", \"na\", \"i\", \"Kh\"]\n",
    "list2 = [\"y\", \"me\", \"s\", \"an\"]\n",
    "\n",
    "my_list = [[i,j] for i,j in zip(list1, list2)]\n",
    "print(f\"New list is: {my_list}\")"
   ]
  },
  {
   "cell_type": "markdown",
   "metadata": {
    "id": "bnRwRgf_0qLu"
   },
   "source": [
    "### `Problem 2:` Add new item to list after a specified item\n",
    "Write a program to add item 7000 after 6000 in the following Python List\n",
    "```\n",
    "list1 = [10, 20, [300, 400, [5000, 6000], 500], 30, 40]\n",
    "```\n",
    "`Output:`\n",
    "```\n",
    "[10, 20, [300, 400, [5000, 6000, 7000], 500], 30, 40]\n",
    "```"
   ]
  },
  {
   "cell_type": "code",
   "execution_count": 8,
   "metadata": {
    "id": "yW5lLPns00q9"
   },
   "outputs": [
    {
     "name": "stdout",
     "output_type": "stream",
     "text": [
      "Final list after appending 7000 is: [10, 20, [300, 400, [5000, 6000, 7000], 500], 30, 40]\n"
     ]
    }
   ],
   "source": [
    "# Write code here (Done)\n",
    "list1 = [10, 20, [300, 400, [5000, 6000], 500], 30, 40]\n",
    "\n",
    "list1[2][2].append(7000)\n",
    "\n",
    "print(f\"Final list after appending 7000 is: {list1}\")"
   ]
  },
  {
   "cell_type": "markdown",
   "metadata": {
    "id": "w7fC8oHk02fH"
   },
   "source": [
    "### `Problem 3:` Update no of items available\n",
    "\n",
    "Suppose you are given a list of candy and another list of same size representing no of items of respective candy. \n",
    "\n",
    "i.e -  \n",
    "```\n",
    "candy_list = ['Jelly Belly','Kit Kat','Double Bubble','Milky Way','Three Musketeers']\n",
    "no_of_items = [10,20,34,74,32]\n",
    "```\n",
    "\n",
    "Write a program to show no. of items of each candy type.\n",
    "\n",
    "`Output:`\n",
    "\n",
    "```\n",
    "Jelly Belly-10\n",
    "Kit Kat-20\n",
    "Double Bubble-34\n",
    "Milky Way-74\n",
    "Three Musketeers-32\n",
    "\n",
    "```"
   ]
  },
  {
   "cell_type": "code",
   "execution_count": 14,
   "metadata": {
    "id": "gg5JEX1a09q8"
   },
   "outputs": [
    {
     "name": "stdout",
     "output_type": "stream",
     "text": [
      "Jelly Belly - 10\n",
      "Kit Kat - 20\n",
      "Double Bubble - 34\n",
      "Milky Way - 74\n",
      "Three Musketeers - 32\n"
     ]
    }
   ],
   "source": [
    "# Write code here (Done)\n",
    "candy_list = ['Jelly Belly','Kit Kat','Double Bubble','Milky Way','Three Musketeers']\n",
    "no_of_items = [10,20,34,74,32]\n",
    "\n",
    "for i in range(len(candy_list)):\n",
    "    print(f\"{candy_list[i]} - {str(no_of_items[i])}\" )"
   ]
  },
  {
   "cell_type": "markdown",
   "metadata": {
    "id": "mFGZAvnB1D3N"
   },
   "source": [
    "### `Problem 4:` Running Sum on list\n",
    "Write a program to print a list after performing running sum on it.\n",
    "\n",
    "i.e:\n",
    "\n",
    "`Input:`\n",
    "```\n",
    "list1 = [1,2,3,4,5,6]\n",
    "```\n",
    "`Output:`\n",
    "```\n",
    "[1,3,6,10,15,21]\n",
    "```"
   ]
  },
  {
   "cell_type": "code",
   "execution_count": 26,
   "metadata": {
    "id": "8LPS6DaD1FTs"
   },
   "outputs": [
    {
     "data": {
      "text/plain": [
       "[1, 3, 6, 10, 15, 21]"
      ]
     },
     "execution_count": 26,
     "metadata": {},
     "output_type": "execute_result"
    }
   ],
   "source": [
    "# Write code here (Done)\n",
    "list1 = [1,2,3,4,5,6]\n",
    "\n",
    "\n",
    "\n",
    "lst = []\n",
    "\n",
    "for i in list1:\n",
    "    sum = 0\n",
    "    for j in list1[0:i]:\n",
    "        sum = sum + j\n",
    "        #print(sum)\n",
    "        \n",
    "    lst.append(sum)\n",
    "    #print()\n",
    "lst    \n"
   ]
  },
  {
   "cell_type": "markdown",
   "metadata": {
    "id": "2ztcZ-EW1HEU"
   },
   "source": [
    "### `Problem 5:` You are given a list of integers. You are asked to make a list by running through elements of the list by adding all elements greater and itself.\n",
    "\n",
    "i.e. Say given list is `[2,4,6,10,1]`\n",
    "resultant list will be `[22,20,10,23]`.\n",
    "\n",
    "For 1st element `2` ->> these are greater `(4+6+10)` values and `2` itself so on adding becomes `22`.\n",
    "\n",
    "For 2nd element `4` ->> greater elements are `(6, 10)` and `4` itself, so on adding `20`\n",
    "\n",
    "like wise for all other elememts.\n",
    "\n",
    "`[2,4,6,10,1]`-->`[22,20,16,10,23]`\n",
    "\n",
    "\n"
   ]
  },
  {
   "cell_type": "code",
   "execution_count": 32,
   "metadata": {
    "id": "UJuWqzj31UD2"
   },
   "outputs": [
    {
     "data": {
      "text/plain": [
       "[22, 20, 16, 10, 23]"
      ]
     },
     "execution_count": 32,
     "metadata": {},
     "output_type": "execute_result"
    }
   ],
   "source": [
    "# Write code here (Done)\n",
    "\n",
    "list1 = [2,4,6,10,1]\n",
    "\n",
    "lst =[]\n",
    "\n",
    "for i in list1:\n",
    "    sum = 0\n",
    "    for j in list1:\n",
    "        if i <= j:\n",
    "            sum += j\n",
    "    lst.append(sum)\n",
    "    \n",
    "lst    "
   ]
  },
  {
   "cell_type": "markdown",
   "metadata": {
    "id": "c9H6tYTx1ZYo"
   },
   "source": [
    "### `Problem 6:` Find list of common unique items from two list. and show in increasing order\n",
    "\n",
    "`Input`\n",
    "\n",
    "```\n",
    "num1 = [23,45,67,78,89,34]\n",
    "num2 = [34,89,55,56,39,67]\n",
    "```\n",
    "\n",
    "`Output:`\n",
    "```\n",
    "[34, 67, 89]\n",
    "```\n"
   ]
  },
  {
   "cell_type": "code",
   "execution_count": 44,
   "metadata": {
    "id": "dDxdi7eE1e1W"
   },
   "outputs": [
    {
     "data": {
      "text/plain": [
       "[34, 67, 89]"
      ]
     },
     "execution_count": 44,
     "metadata": {},
     "output_type": "execute_result"
    }
   ],
   "source": [
    "# Write code here (Done)\n",
    "\n",
    "num1 = [23,45,67,78,89,34]\n",
    "num2 = [34,89,55,56,39,67]\n",
    "\n",
    "lst = [i for i in num1 for j in num2 if i==j]\n",
    "\n",
    "lst.sort()\n",
    "\n",
    "lst\n"
   ]
  },
  {
   "cell_type": "markdown",
   "metadata": {
    "id": "i3Izok2i1gRD"
   },
   "source": [
    "### `Problem 7:` Sort a list of alphanumeric strings based on product value of numeric character in it. If in any string there is no numeric character take it's product value as 1.\n",
    "\n",
    "`Input:`\n",
    "```\n",
    "['1ac21', '23fg', '456', '098d','1','kls']\n",
    "```\n",
    "\n",
    "`Output:`\n",
    "```\n",
    "['456', '23fg', '1ac21', '1', 'kls', '098d']\n",
    "\n",
    "```"
   ]
  },
  {
   "cell_type": "code",
   "execution_count": 109,
   "metadata": {
    "id": "eiXSanG11oq6"
   },
   "outputs": [
    {
     "data": {
      "text/plain": [
       "('456', '23fg', '1ac21', 'kls', '1', '098d')"
      ]
     },
     "execution_count": 109,
     "metadata": {},
     "output_type": "execute_result"
    }
   ],
   "source": [
    "# Write code here (Done)\n",
    "list1 = ['1ac21', '23fg', '456', '098d','1','kls']\n",
    "\n",
    "lst = []\n",
    "\n",
    "for i in list1:\n",
    "    prod1 = 1\n",
    "    for j in i:\n",
    "        if j.isnumeric():\n",
    "           prod1 = prod1 * int(j)\n",
    "    lst.append(prod1)\n",
    "    \n",
    "#print(lst)\n",
    "lst, list1 = zip(*sorted(zip(lst, list1), reverse = True)) \n",
    "\n",
    "list1"
   ]
  },
  {
   "cell_type": "markdown",
   "metadata": {
    "id": "McMaNSpB1zJB"
   },
   "source": [
    "### `Problem 8:` Split String of list on K character.\n",
    "\n",
    "**Example :**\n",
    "\n",
    "Input:\n",
    "```bash\n",
    "['CampusX is a channel', 'for data-science', 'aspirants.']\n",
    "```\n",
    "\n",
    "Output:\n",
    "```bash\n",
    "['CampusX', 'is', 'a', 'channel', 'for', 'data-science', 'aspirants.']\n",
    "```"
   ]
  },
  {
   "cell_type": "code",
   "execution_count": 110,
   "metadata": {
    "id": "rLg6AUhf14wI"
   },
   "outputs": [
    {
     "data": {
      "text/plain": [
       "['CampusX', 'is', 'a', 'channel', 'for', 'data-science', 'aspirants.']"
      ]
     },
     "execution_count": 110,
     "metadata": {},
     "output_type": "execute_result"
    }
   ],
   "source": [
    "# Write code here (Done)\n",
    "\n",
    "list1 = ['CampusX is a channel', 'for data-science', 'aspirants.']\n",
    "\n",
    "lst = [i.split() for i in list1]\n",
    "\n",
    "[j for i in lst for j in i]"
   ]
  },
  {
   "cell_type": "markdown",
   "metadata": {
    "id": "ebqIC0Xa16dG"
   },
   "source": [
    "### `Problem 9:` Convert Character Matrix to single String using string comprehension.\n",
    "\n",
    "**Example 1:** \n",
    "\n",
    "Input:\n",
    "```bash\n",
    "[['c', 'a', 'm', 'p', 'u', 'x'], ['i', 's'], ['b', 'e', 's', 't'], ['c', 'h', 'a', 'n', 'n', 'e', 'l']]\n",
    "```\n",
    "\n",
    "Output:\n",
    "```bash\n",
    "campux is best channel\n",
    "```"
   ]
  },
  {
   "cell_type": "code",
   "execution_count": 50,
   "metadata": {
    "id": "KLKxzyZf2BLr"
   },
   "outputs": [
    {
     "data": {
      "text/plain": [
       "'campux is best channel'"
      ]
     },
     "execution_count": 50,
     "metadata": {},
     "output_type": "execute_result"
    }
   ],
   "source": [
    "# Write code here (Done)\n",
    "\n",
    "list1 = [['c', 'a', 'm', 'p', 'u', 'x'], ['i', 's'], ['b', 'e', 's', 't'], ['c', 'h', 'a', 'n', 'n', 'e', 'l']]\n",
    "\n",
    "\" \".join([\"\".join(i) for i in list1])"
   ]
  },
  {
   "cell_type": "markdown",
   "metadata": {
    "id": "0v1Z3Snp2DAm"
   },
   "source": [
    "### `Problem 10:` Add Space between Potential Words.\n",
    "\n",
    "**Example:**\n",
    "\n",
    "Input:\n",
    "\n",
    "```bash\n",
    "['campusxIs', 'bestFor', 'dataScientist']\n",
    "```\n",
    "\n",
    "Output:\n",
    "```bash\n",
    "['campusx Is', 'best For', 'data Scientist']\n",
    "```"
   ]
  },
  {
   "cell_type": "code",
   "execution_count": 62,
   "metadata": {
    "id": "pltvqSXa2IxP"
   },
   "outputs": [
    {
     "data": {
      "text/plain": [
       "['campusx Is', 'best For', 'data Scientist']"
      ]
     },
     "execution_count": 62,
     "metadata": {},
     "output_type": "execute_result"
    }
   ],
   "source": [
    "# Code here (Done)\n",
    "\n",
    "list1 = ['campusxIs', 'bestFor', 'dataScientist']\n",
    "\n",
    "[i[0:i.find(j)] + \" \" + i[i.find(j): ] for i in list1 for j in i if j.isupper()]"
   ]
  },
  {
   "cell_type": "markdown",
   "metadata": {
    "id": "tnmBk1M52KXW"
   },
   "source": [
    "### `Problem 11:` Write a program that can perform union operation on 2 lists\n",
    "\n",
    "**Example:**\n",
    "\n",
    "Input:\n",
    "\n",
    "```bash\n",
    "[1,2,3,4,5,1]\n",
    "[2,3,5,7,8]\n",
    "```\n",
    "\n",
    "Output:\n",
    "```bash\n",
    "[1,2,3,4,5,7,8]\n",
    "```"
   ]
  },
  {
   "cell_type": "code",
   "execution_count": 111,
   "metadata": {
    "id": "u0AgIToU2-Ht"
   },
   "outputs": [
    {
     "data": {
      "text/plain": [
       "[1, 2, 3, 4, 5, 7, 8]"
      ]
     },
     "execution_count": 111,
     "metadata": {},
     "output_type": "execute_result"
    }
   ],
   "source": [
    "# Write code here (Done)\n",
    "\n",
    "list1 = [1,2,3,4,5,1]\n",
    "list2 = [2,3,5,7,8]\n",
    "\n",
    "final_lst = []\n",
    "\n",
    "cons_list = list1+list2\n",
    "\n",
    "for i in cons_list:\n",
    "    if i not in final_lst:\n",
    "        final_lst.append(i)\n",
    "        \n",
    "final_lst        \n",
    "\n"
   ]
  },
  {
   "cell_type": "markdown",
   "metadata": {
    "id": "Yt8x67Ch3Ow1"
   },
   "source": [
    "### `Problem 12:` Write a program that can find the max number of each row of a matrix\n",
    "\n",
    "**Example:**\n",
    "\n",
    "Input:\n",
    "\n",
    "```bash\n",
    "[[1,2,3],[4,5,6],[7,8,9]]\n",
    "```\n",
    "\n",
    "Output:\n",
    "```bash\n",
    "[3,6,9]\n",
    "```"
   ]
  },
  {
   "cell_type": "code",
   "execution_count": 78,
   "metadata": {
    "id": "7QopAaAI3noh"
   },
   "outputs": [
    {
     "data": {
      "text/plain": [
       "[3, 6, 9]"
      ]
     },
     "execution_count": 78,
     "metadata": {},
     "output_type": "execute_result"
    }
   ],
   "source": [
    "# Write code here (Done)\n",
    "\n",
    "list1 = [[1,2,3],[4,5,6],[7,8,9]]\n",
    "\n",
    "[max(i) for i in list1]"
   ]
  },
  {
   "cell_type": "markdown",
   "metadata": {
    "id": "DBZlUmnt3pGT"
   },
   "source": [
    "### `Problem 13:` Write a list comprehension to print the following matrix\n",
    "\n",
    "[[0, 1, 2], [3, 4, 5], [6, 7, 8]]"
   ]
  },
  {
   "cell_type": "code",
   "execution_count": 120,
   "metadata": {
    "id": "Ip4e8M-S356h"
   },
   "outputs": [
    {
     "data": {
      "text/plain": [
       "[[0, 1, 2], [3, 4, 5], [6, 7, 8]]"
      ]
     },
     "execution_count": 120,
     "metadata": {},
     "output_type": "execute_result"
    }
   ],
   "source": [
    "# Write code here (Done)\n",
    "\n",
    "[[i, j, k] for i in range(9) for j in range(i+1,i+2) for k in range(i+2,i+3) if i%3==0 ]\n",
    "    "
   ]
  },
  {
   "cell_type": "markdown",
   "metadata": {
    "id": "j3vTuFC737kG"
   },
   "source": [
    "### `Problem 14:` Write a list comprehension that can transpose a given matrix\n",
    "\n",
    "matrix = [<br>\n",
    "  [1,2,3],<br>\n",
    "          [4,5,6],<br>\n",
    "          [7,8,9]<br>]<br>\n",
    "\n",
    "[1, 4, 7]<br>\n",
    "[2, 5, 8]<br>\n",
    "[3, 6, 9]<br>"
   ]
  },
  {
   "cell_type": "code",
   "execution_count": 132,
   "metadata": {
    "id": "CcBNu0gk4XsR"
   },
   "outputs": [
    {
     "name": "stdout",
     "output_type": "stream",
     "text": [
      "[1, 2, 3, 4, 5, 6, 7, 8, 9]\n",
      "[[1, 4, 7], [2, 5, 8], [3, 6, 9]]\n"
     ]
    }
   ],
   "source": [
    "# Write code here (Done)\n",
    "matrix = [[1,2,3],[4,5,6],[7,8,9]]\n",
    "\n",
    "flat_mat = [j for i in matrix for j in i]\n",
    "\n",
    "new_mat = [[flat_mat[i],flat_mat[j], flat_mat[k]] for i in range(3) for j in range(i+3,i+4) for k in range(i+6, i+7) if i<=3]\n",
    "\n",
    "print(new_mat)"
   ]
  },
  {
   "cell_type": "markdown",
   "metadata": {
    "id": "wRkSWFb74eOt"
   },
   "source": [
    "### `Problem 15:` Write a list comprehension that can flatten a nested list\n",
    "\n",
    "Input<br>\n",
    "matrix = [<br>\n",
    "  [1,2,3],<br>\n",
    "          [4,5,6],<br>\n",
    "          [7,8,9]<br>]<br>\n",
    "\n",
    "Output:<br>\n",
    "[1, 2, 3, 4, 5, 6, 7, 8, 9]"
   ]
  },
  {
   "cell_type": "code",
   "execution_count": 75,
   "metadata": {
    "id": "jZGQ5el25HFr"
   },
   "outputs": [
    {
     "data": {
      "text/plain": [
       "[1, 2, 3, 4, 5, 6, 7, 8, 9]"
      ]
     },
     "execution_count": 75,
     "metadata": {},
     "output_type": "execute_result"
    }
   ],
   "source": [
    "# Write code here (Done)\n",
    "matrix = [[1,2,3],[4,5,6],[7,8,9]]\n",
    "\n",
    "[j for i in matrix for j in i]\n",
    "\n"
   ]
  },
  {
   "cell_type": "code",
   "execution_count": null,
   "metadata": {},
   "outputs": [],
   "source": []
  }
 ],
 "metadata": {
  "colab": {
   "provenance": []
  },
  "kernelspec": {
   "display_name": "Python 3 (ipykernel)",
   "language": "python",
   "name": "python3"
  },
  "language_info": {
   "codemirror_mode": {
    "name": "ipython",
    "version": 3
   },
   "file_extension": ".py",
   "mimetype": "text/x-python",
   "name": "python",
   "nbconvert_exporter": "python",
   "pygments_lexer": "ipython3",
   "version": "3.9.12"
  }
 },
 "nbformat": 4,
 "nbformat_minor": 1
}
